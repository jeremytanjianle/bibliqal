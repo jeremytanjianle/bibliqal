{
 "cells": [
  {
   "cell_type": "markdown",
   "metadata": {},
   "source": [
    "### Testing the Inference functions here in bibliqal"
   ]
  },
  {
   "cell_type": "markdown",
   "metadata": {},
   "source": [
    "### 1. Loading the directories and the libraries"
   ]
  },
  {
   "cell_type": "code",
   "execution_count": 1,
   "metadata": {},
   "outputs": [],
   "source": [
    "import sys\n",
    "sys.path.append('..')\n",
    "\n",
    "import numpy as np\n",
    "import sqlite3 as sq\n",
    "from src.model import USEQA\n",
    "    \n",
    "# string addresses and questions\n",
    "query_string = \"Is Genesis a scientific document?\"\n",
    "vectorised_master_kb_dir = '../data/vectorised_master_kb.npz'\n",
    "master_kb_text_dir = '../data/master_kb_text.db'\n",
    "\n",
    "# load master kb\n",
    "with np.load(vectorised_master_kb_dir) as data:\n",
    "    master_matrix = data['arr_0']"
   ]
  },
  {
   "cell_type": "markdown",
   "metadata": {},
   "source": [
    "### 2. Inference is made with asd"
   ]
  },
  {
   "cell_type": "code",
   "execution_count": 7,
   "metadata": {},
   "outputs": [
    {
     "data": {
      "text/plain": [
       "(1, 512)"
      ]
     },
     "execution_count": 7,
     "metadata": {},
     "output_type": "execute_result"
    }
   ],
   "source": [
    "# init model\n",
    "# model = USEQA()\n",
    "encoded_question = model.predict(query_string, type='query').numpy()#[0,:]\n",
    "\n",
    "encoded_question.shape"
   ]
  },
  {
   "cell_type": "markdown",
   "metadata": {},
   "source": [
    "Calculate cosine similarity with master matrix."
   ]
  },
  {
   "cell_type": "code",
   "execution_count": 8,
   "metadata": {},
   "outputs": [
    {
     "data": {
      "text/plain": [
       "array([[0.41841924, 0.3805582 , 0.44002157, ..., 0.06836633, 0.07423057,\n",
       "        0.1920658 ]], dtype=float32)"
      ]
     },
     "execution_count": 8,
     "metadata": {},
     "output_type": "execute_result"
    }
   ],
   "source": [
    "from sklearn.metrics.pairwise import cosine_similarity\n",
    "similarity_score=cosine_similarity(encoded_question,master_matrix)\n",
    "similarity_score\n"
   ]
  },
  {
   "cell_type": "markdown",
   "metadata": {},
   "source": [
    "Sort the tags between the encoded question and the master matrix."
   ]
  },
  {
   "cell_type": "code",
   "execution_count": 9,
   "metadata": {},
   "outputs": [
    {
     "data": {
      "text/plain": [
       "[10, 9, 2, 0, 1]"
      ]
     },
     "execution_count": 9,
     "metadata": {},
     "output_type": "execute_result"
    }
   ],
   "source": [
    "sortargs=np.flip(similarity_score.argsort(axis=1))\n",
    "sortargs = list(sortargs[0])\n",
    "sortargs[:5]"
   ]
  },
  {
   "cell_type": "markdown",
   "metadata": {},
   "source": [
    "Finding the positions of the best relevant answers."
   ]
  },
  {
   "cell_type": "code",
   "execution_count": 13,
   "metadata": {},
   "outputs": [
    {
     "data": {
      "text/plain": [
       "[3, 4, 2, 43, 5]"
      ]
     },
     "execution_count": 13,
     "metadata": {},
     "output_type": "execute_result"
    }
   ],
   "source": [
    "def find_pos_of_nth_smallest(sortargs, n):\n",
    "    \"\"\"\n",
    "    Find the position of the nth smallest number\n",
    "    \n",
    "    args:\n",
    "        sortargs: (list) contains the rankings\n",
    "        n: (int) number positions of smallest number\n",
    "        \n",
    "    return:\n",
    "        integer postion of the value\n",
    "    \"\"\"\n",
    "    return sortargs.index(sorted(sortargs)[n])\n",
    "\n",
    "def find_idx_of_best_k_answers(sortargs, k):\n",
    "    \"\"\"\n",
    "    Find indices of the most relevant \n",
    "    \n",
    "    args:\n",
    "        sortargs: (list) contains the rankings\n",
    "        k: (int) number positions of top rankings\n",
    "        \n",
    "    return:\n",
    "        list of top k ranking positions in lists\n",
    "        \n",
    "    e.g.\n",
    "    >>> find_idx_of_best_k_answers(sortargs, 5)\n",
    "    >>> [3, 4, 2, 43, 5]\n",
    "    \n",
    "    where 3 is the index of 0, \n",
    "          4 is the index of 1,\n",
    "          2 is the index of 2,\n",
    "          43 is the index of 3,\n",
    "          5 is the index of 4\n",
    "    \"\"\"\n",
    "    return [find_pos_of_nth_smallest(sortargs, i) for i in range(k)]\n",
    "\n",
    "idx_of_best_k_answers = find_idx_of_best_k_answers(sortargs, 5)\n",
    "idx_of_best_k_answers"
   ]
  },
  {
   "cell_type": "markdown",
   "metadata": {},
   "source": [
    "### 3. Query the ranks from the SQLite"
   ]
  },
  {
   "cell_type": "code",
   "execution_count": 12,
   "metadata": {},
   "outputs": [
    {
     "data": {
      "text/plain": [
       "[(4.0,\n",
       "  'Macarthur John',\n",
       "  ' - Bible Introductions - Genesis',\n",
       "  'Genesis 1–11 (primeval history) reveals the origins of the universe, i.e., the beginnings of time and space and many of the firsts in human experience, such as marriage, family, the Fall, sin, redemption, judgment, and nations. Genesis 12–50 (patriarchal history) explained to Israel how they came into existence as a family whose ancestry could be traced to Eber (hence the “Hebrews”; Gen. 10:24, 25) and even more remotely to Shem, the son of Noah (hence the “Semites”; Gen. 10:21). God’s people came to understand not only their ancestry and family history, but also the origins of their institutions, customs, languages, and different cultures, especially basic human experiences such as sin and death.',\n",
       "  'https://www.blueletterbible.org/Comm/macarthur_john/bible-introductions/genesis-intro.cfm',\n",
       "  '')]"
      ]
     },
     "execution_count": 12,
     "metadata": {},
     "output_type": "execute_result"
    }
   ],
   "source": [
    "def query_SQL_by_idx(con, idx):\n",
    "    \"\"\"\n",
    "    Query an observation from SQL base based on idx\n",
    "    \n",
    "    args:\n",
    "    -----\n",
    "        con: SQL client\n",
    "        idx: (int) index position of the row in the database\n",
    "        \n",
    "    return:\n",
    "    ------\n",
    "        query_results: list of tuple\n",
    "    \"\"\"\n",
    "    return con.execute('SELECT * FROM master_kb_text WHERE idx = ?', (idx,)).fetchall() \n",
    "\n",
    "con = sq.connect(master_kb_text_dir)\n",
    "\n",
    "query_SQL_by_idx(con, 4)"
   ]
  },
  {
   "cell_type": "markdown",
   "metadata": {},
   "source": [
    "### Querying multiple rows from SQL\n",
    "There are a few ways:\n",
    "1. query one index at a time\n",
    "2. query one at a time with a list comprehension\n",
    "3. use pandas io to query"
   ]
  },
  {
   "cell_type": "code",
   "execution_count": 15,
   "metadata": {
    "scrolled": true
   },
   "outputs": [
    {
     "data": {
      "text/plain": [
       "[[(3.0,\n",
       "   'Macarthur John',\n",
       "   ' - Bible Introductions - Genesis',\n",
       "   'In this book of beginnings, God revealed Himself and a worldview to Israel which contrasted, at times sharply, with the worldview of Israel’s neighbors. The author made no attempt to defend the existence of God or to present a systematic discussion of His person and works. Rather, Israel’s God distinguished Himself clearly from the alleged gods of her neighbors. Theological foundations are revealed which include God the Father, God the Son, God the Holy Spirit, man, sin, redemption, covenant, promise, Satan and angels, kingdom, revelation, Israel, judgment, and blessing.',\n",
       "   'https://www.blueletterbible.org/Comm/macarthur_john/bible-introductions/genesis-intro.cfm',\n",
       "   '')],\n",
       " [(4.0,\n",
       "   'Macarthur John',\n",
       "   ' - Bible Introductions - Genesis',\n",
       "   'Genesis 1–11 (primeval history) reveals the origins of the universe, i.e., the beginnings of time and space and many of the firsts in human experience, such as marriage, family, the Fall, sin, redemption, judgment, and nations. Genesis 12–50 (patriarchal history) explained to Israel how they came into existence as a family whose ancestry could be traced to Eber (hence the “Hebrews”; Gen. 10:24, 25) and even more remotely to Shem, the son of Noah (hence the “Semites”; Gen. 10:21). God’s people came to understand not only their ancestry and family history, but also the origins of their institutions, customs, languages, and different cultures, especially basic human experiences such as sin and death.',\n",
       "   'https://www.blueletterbible.org/Comm/macarthur_john/bible-introductions/genesis-intro.cfm',\n",
       "   '')],\n",
       " [(2.0,\n",
       "   'Macarthur John',\n",
       "   ' - Bible Introductions - Genesis',\n",
       "   'The initial setting for Genesis is eternity past. God then, by willful act and divine Word, spoke all creation into existence, furnished it, and finally breathed life into a lump of dirt which He fashioned in His image to become Adam. God made mankind the crowning point of His creation, i.e., His companions who would enjoy fellowship with Him and bring glory to His name. The historical background for the early events in Genesis is clearly Mesopotamian. While it is difficult to pinpoint precisely the historical moment for which this book was written, Israel first heard Genesis sometime prior to crossing the Jordan River and entering the Promised Land (ca. 1405 B.C.). Genesis has 3 distinct, sequential geographical settings: 1) Mesopotamia (chaps. 1–11); 2) the Promised Land (chaps. 12–36); and 3) Egypt (chaps. 37–50). The time frames of these 3 segments are: 1) Creation to ca. 2090 B.C.; 2) 2090–1897 B.C.; and 3) 1897–1804 B.C. Genesis covers more time than the remaining books of the Bible combined.',\n",
       "   'https://www.blueletterbible.org/Comm/macarthur_john/bible-introductions/genesis-intro.cfm',\n",
       "   '')],\n",
       " [(43.0,\n",
       "   'Macarthur John',\n",
       "   ' - Bible Introductions - Numbers',\n",
       "   'The second interpretive question asks, “Is there a sense of coherence in the book of Numbers?” It is readily evident that Numbers contains a wide variety of literary materials and forms. Census lists, genealogies, laws, historical narratives, poetry, prophecy, and travel lists are found in this book. Nevertheless, they are all blended to tell the story of Israel’s journey from Mt. Sinai to the Plains of Moab. The coherence of Numbers is reflected in the outline that follows.',\n",
       "   'https://www.blueletterbible.org/Comm/macarthur_john/bible-introductions/numbers-intro.cfm',\n",
       "   '')],\n",
       " [(5.0,\n",
       "   'Macarthur John',\n",
       "   ' - Bible Introductions - Genesis',\n",
       "   'Because they were preparing to enter Canaan and dispossess the Canaanite inhabitants of their homes and properties, God revealed their enemies’ background. In addition, they needed to understand the actual basis of the war they were about to declare in light of the immorality of killing, consistent with the other 4 books that Moses was writing (Exodus, Leviticus, Numbers, and Deuteronomy). Ultimately, the Jewish nation would understand a selected portion of preceding world history and the inaugural background of Israel as a basis by which they would live in their new beginnings under Joshua’s leadership in the land which had previously been promised to their original patriarchal forefather, Abraham.',\n",
       "   'https://www.blueletterbible.org/Comm/macarthur_john/bible-introductions/genesis-intro.cfm',\n",
       "   '')]]"
      ]
     },
     "execution_count": 15,
     "metadata": {},
     "output_type": "execute_result"
    }
   ],
   "source": [
    "list_of_context_tuples = [query_SQL_by_idx(con, idx) for idx in idx_of_best_k_answers]\n",
    "list_of_context_tuples"
   ]
  },
  {
   "cell_type": "code",
   "execution_count": 25,
   "metadata": {},
   "outputs": [
    {
     "data": {
      "text/plain": [
       "[(3.0,\n",
       "  'Macarthur John',\n",
       "  ' - Bible Introductions - Genesis',\n",
       "  'In this book of beginnings, God revealed Himself and a worldview to Israel which contrasted, at times sharply, with the worldview of Israel’s neighbors. The author made no attempt to defend the existence of God or to present a systematic discussion of His person and works. Rather, Israel’s God distinguished Himself clearly from the alleged gods of her neighbors. Theological foundations are revealed which include God the Father, God the Son, God the Holy Spirit, man, sin, redemption, covenant, promise, Satan and angels, kingdom, revelation, Israel, judgment, and blessing.',\n",
       "  'https://www.blueletterbible.org/Comm/macarthur_john/bible-introductions/genesis-intro.cfm',\n",
       "  ''),\n",
       " (4.0,\n",
       "  'Macarthur John',\n",
       "  ' - Bible Introductions - Genesis',\n",
       "  'Genesis 1–11 (primeval history) reveals the origins of the universe, i.e., the beginnings of time and space and many of the firsts in human experience, such as marriage, family, the Fall, sin, redemption, judgment, and nations. Genesis 12–50 (patriarchal history) explained to Israel how they came into existence as a family whose ancestry could be traced to Eber (hence the “Hebrews”; Gen. 10:24, 25) and even more remotely to Shem, the son of Noah (hence the “Semites”; Gen. 10:21). God’s people came to understand not only their ancestry and family history, but also the origins of their institutions, customs, languages, and different cultures, especially basic human experiences such as sin and death.',\n",
       "  'https://www.blueletterbible.org/Comm/macarthur_john/bible-introductions/genesis-intro.cfm',\n",
       "  '')]"
      ]
     },
     "execution_count": 25,
     "metadata": {},
     "output_type": "execute_result"
    }
   ],
   "source": [
    "con = sq.connect(master_kb_text_dir)\n",
    "query = 'SELECT * FROM master_kb_text WHERE idx IN (?,?)' \n",
    "con.execute(query, [4,3,]).fetchall() "
   ]
  },
  {
   "cell_type": "code",
   "execution_count": 37,
   "metadata": {},
   "outputs": [],
   "source": [
    "import pandas.io.sql as pds\n",
    "data_df = pds.read_sql('SELECT * FROM master_kb_text WHERE idx IN (' + str(idx_of_best_k_answers)[1:-1] + ')', con)"
   ]
  },
  {
   "cell_type": "code",
   "execution_count": 38,
   "metadata": {},
   "outputs": [
    {
     "data": {
      "text/html": [
       "<div>\n",
       "<style scoped>\n",
       "    .dataframe tbody tr th:only-of-type {\n",
       "        vertical-align: middle;\n",
       "    }\n",
       "\n",
       "    .dataframe tbody tr th {\n",
       "        vertical-align: top;\n",
       "    }\n",
       "\n",
       "    .dataframe thead th {\n",
       "        text-align: right;\n",
       "    }\n",
       "</style>\n",
       "<table border=\"1\" class=\"dataframe\">\n",
       "  <thead>\n",
       "    <tr style=\"text-align: right;\">\n",
       "      <th></th>\n",
       "      <th>authors</th>\n",
       "      <th>document_nm</th>\n",
       "      <th>paragraph</th>\n",
       "      <th>url</th>\n",
       "      <th>verse_references</th>\n",
       "    </tr>\n",
       "    <tr>\n",
       "      <th>idx</th>\n",
       "      <th></th>\n",
       "      <th></th>\n",
       "      <th></th>\n",
       "      <th></th>\n",
       "      <th></th>\n",
       "    </tr>\n",
       "  </thead>\n",
       "  <tbody>\n",
       "    <tr>\n",
       "      <th>3</th>\n",
       "      <td>Macarthur John</td>\n",
       "      <td>- Bible Introductions - Genesis</td>\n",
       "      <td>In this book of beginnings, God revealed Himse...</td>\n",
       "      <td>https://www.blueletterbible.org/Comm/macarthur...</td>\n",
       "      <td></td>\n",
       "    </tr>\n",
       "    <tr>\n",
       "      <th>4</th>\n",
       "      <td>Macarthur John</td>\n",
       "      <td>- Bible Introductions - Genesis</td>\n",
       "      <td>Genesis 1–11 (primeval history) reveals the or...</td>\n",
       "      <td>https://www.blueletterbible.org/Comm/macarthur...</td>\n",
       "      <td></td>\n",
       "    </tr>\n",
       "    <tr>\n",
       "      <th>2</th>\n",
       "      <td>Macarthur John</td>\n",
       "      <td>- Bible Introductions - Genesis</td>\n",
       "      <td>The initial setting for Genesis is eternity pa...</td>\n",
       "      <td>https://www.blueletterbible.org/Comm/macarthur...</td>\n",
       "      <td></td>\n",
       "    </tr>\n",
       "    <tr>\n",
       "      <th>43</th>\n",
       "      <td>Macarthur John</td>\n",
       "      <td>- Bible Introductions - Numbers</td>\n",
       "      <td>The second interpretive question asks, “Is the...</td>\n",
       "      <td>https://www.blueletterbible.org/Comm/macarthur...</td>\n",
       "      <td></td>\n",
       "    </tr>\n",
       "    <tr>\n",
       "      <th>5</th>\n",
       "      <td>Macarthur John</td>\n",
       "      <td>- Bible Introductions - Genesis</td>\n",
       "      <td>Because they were preparing to enter Canaan an...</td>\n",
       "      <td>https://www.blueletterbible.org/Comm/macarthur...</td>\n",
       "      <td></td>\n",
       "    </tr>\n",
       "  </tbody>\n",
       "</table>\n",
       "</div>"
      ],
      "text/plain": [
       "            authors                       document_nm  \\\n",
       "idx                                                     \n",
       "3    Macarthur John   - Bible Introductions - Genesis   \n",
       "4    Macarthur John   - Bible Introductions - Genesis   \n",
       "2    Macarthur John   - Bible Introductions - Genesis   \n",
       "43   Macarthur John   - Bible Introductions - Numbers   \n",
       "5    Macarthur John   - Bible Introductions - Genesis   \n",
       "\n",
       "                                             paragraph  \\\n",
       "idx                                                      \n",
       "3    In this book of beginnings, God revealed Himse...   \n",
       "4    Genesis 1–11 (primeval history) reveals the or...   \n",
       "2    The initial setting for Genesis is eternity pa...   \n",
       "43   The second interpretive question asks, “Is the...   \n",
       "5    Because they were preparing to enter Canaan an...   \n",
       "\n",
       "                                                   url verse_references  \n",
       "idx                                                                      \n",
       "3    https://www.blueletterbible.org/Comm/macarthur...                   \n",
       "4    https://www.blueletterbible.org/Comm/macarthur...                   \n",
       "2    https://www.blueletterbible.org/Comm/macarthur...                   \n",
       "43   https://www.blueletterbible.org/Comm/macarthur...                   \n",
       "5    https://www.blueletterbible.org/Comm/macarthur...                   "
      ]
     },
     "execution_count": 38,
     "metadata": {},
     "output_type": "execute_result"
    }
   ],
   "source": [
    "data_df.set_index('idx').loc[idx_of_best_k_answers]"
   ]
  },
  {
   "cell_type": "markdown",
   "metadata": {},
   "source": [
    "### Testing the GR `make_query()` function."
   ]
  },
  {
   "cell_type": "code",
   "execution_count": 1,
   "metadata": {},
   "outputs": [],
   "source": [
    "import sys\n",
    "sys.path.append('..')\n",
    "\n",
    "import numpy as np\n",
    "import sqlite3 as sq\n",
    "from src.model import USEQA\n",
    "    \n",
    "# string addresses and questions\n",
    "query_string = \"Is Genesis a scientific document?\"\n",
    "vectorised_master_kb_dir = '../data/vectorised_master_kb.npz'\n",
    "master_kb_text_dir = '../data/master_kb_text.db'\n",
    "\n",
    "# load master kb\n",
    "with np.load(vectorised_master_kb_dir) as data:\n",
    "    master_matrix = data['arr_0']\n",
    "    \n",
    "# sql connection\n",
    "con = sq.connect(master_kb_text_dir)\n",
    "\n",
    "# load master kb\n",
    "with np.load(vectorised_master_kb_dir) as data:\n",
    "    master_matrix = data['arr_0']"
   ]
  },
  {
   "cell_type": "markdown",
   "metadata": {},
   "source": [
    "Init and make query"
   ]
  },
  {
   "cell_type": "code",
   "execution_count": 2,
   "metadata": {},
   "outputs": [
    {
     "name": "stdout",
     "output_type": "stream",
     "text": [
      "model initiated!\n"
     ]
    }
   ],
   "source": [
    "# init model\n",
    "model = USEQA()\n",
    "# encoded_question = model.predict(query_string, type='query').numpy()#[0,:]\n",
    "\n",
    "# encoded_question.shape"
   ]
  },
  {
   "cell_type": "code",
   "execution_count": 11,
   "metadata": {},
   "outputs": [
    {
     "data": {
      "text/html": [
       "<div>\n",
       "<style scoped>\n",
       "    .dataframe tbody tr th:only-of-type {\n",
       "        vertical-align: middle;\n",
       "    }\n",
       "\n",
       "    .dataframe tbody tr th {\n",
       "        vertical-align: top;\n",
       "    }\n",
       "\n",
       "    .dataframe thead th {\n",
       "        text-align: right;\n",
       "    }\n",
       "</style>\n",
       "<table border=\"1\" class=\"dataframe\">\n",
       "  <thead>\n",
       "    <tr style=\"text-align: right;\">\n",
       "      <th></th>\n",
       "      <th>authors</th>\n",
       "      <th>document_nm</th>\n",
       "      <th>paragraph</th>\n",
       "      <th>url</th>\n",
       "      <th>verse_references</th>\n",
       "    </tr>\n",
       "    <tr>\n",
       "      <th>idx</th>\n",
       "      <th></th>\n",
       "      <th></th>\n",
       "      <th></th>\n",
       "      <th></th>\n",
       "      <th></th>\n",
       "    </tr>\n",
       "  </thead>\n",
       "  <tbody>\n",
       "    <tr>\n",
       "      <th>24</th>\n",
       "      <td>Expositors Commentary</td>\n",
       "      <td></td>\n",
       "      <td>There is indeed a prevalent suspicion, that in...</td>\n",
       "      <td>https://biblehub.com/commentaries/expositors/g...</td>\n",
       "      <td>Genesis-3</td>\n",
       "    </tr>\n",
       "    <tr>\n",
       "      <th>15</th>\n",
       "      <td>Expositors Commentary</td>\n",
       "      <td></td>\n",
       "      <td>IF anyone is in search of accurate information...</td>\n",
       "      <td>https://biblehub.com/commentaries/expositors/g...</td>\n",
       "      <td>Genesis-3</td>\n",
       "    </tr>\n",
       "    <tr>\n",
       "      <th>5</th>\n",
       "      <td>Expositors Commentary</td>\n",
       "      <td></td>\n",
       "      <td>Here then instead of anything to discompose us...</td>\n",
       "      <td>https://biblehub.com/commentaries/expositors/g...</td>\n",
       "      <td>Genesis-2</td>\n",
       "    </tr>\n",
       "    <tr>\n",
       "      <th>30</th>\n",
       "      <td>Expositors Commentary</td>\n",
       "      <td></td>\n",
       "      <td>PROFOUND as the teaching of this narrative is,...</td>\n",
       "      <td>https://biblehub.com/commentaries/expositors/g...</td>\n",
       "      <td>Genesis-4</td>\n",
       "    </tr>\n",
       "    <tr>\n",
       "      <th>60</th>\n",
       "      <td>Expositors Commentary</td>\n",
       "      <td></td>\n",
       "      <td>If, therefore, you continue at war with God it...</td>\n",
       "      <td>https://biblehub.com/commentaries/expositors/g...</td>\n",
       "      <td>Genesis-5</td>\n",
       "    </tr>\n",
       "  </tbody>\n",
       "</table>\n",
       "</div>"
      ],
      "text/plain": [
       "                   authors document_nm  \\\n",
       "idx                                      \n",
       "24   Expositors Commentary               \n",
       "15   Expositors Commentary               \n",
       "5    Expositors Commentary               \n",
       "30   Expositors Commentary               \n",
       "60   Expositors Commentary               \n",
       "\n",
       "                                             paragraph  \\\n",
       "idx                                                      \n",
       "24   There is indeed a prevalent suspicion, that in...   \n",
       "15   IF anyone is in search of accurate information...   \n",
       "5    Here then instead of anything to discompose us...   \n",
       "30   PROFOUND as the teaching of this narrative is,...   \n",
       "60   If, therefore, you continue at war with God it...   \n",
       "\n",
       "                                                   url verse_references  \n",
       "idx                                                                      \n",
       "24   https://biblehub.com/commentaries/expositors/g...        Genesis-3  \n",
       "15   https://biblehub.com/commentaries/expositors/g...        Genesis-3  \n",
       "5    https://biblehub.com/commentaries/expositors/g...        Genesis-2  \n",
       "30   https://biblehub.com/commentaries/expositors/g...        Genesis-4  \n",
       "60   https://biblehub.com/commentaries/expositors/g...        Genesis-5  "
      ]
     },
     "execution_count": 11,
     "metadata": {},
     "output_type": "execute_result"
    }
   ],
   "source": [
    "data_df, top_scores = model.make_query(query_string, master_matrix, con)\n",
    "data_df"
   ]
  },
  {
   "cell_type": "markdown",
   "metadata": {},
   "source": [
    "### Troubleshooting"
   ]
  },
  {
   "cell_type": "code",
   "execution_count": 126,
   "metadata": {},
   "outputs": [
    {
     "name": "stdout",
     "output_type": "stream",
     "text": [
      "CPU times: user 128 ms, sys: 3.96 ms, total: 132 ms\n",
      "Wall time: 89.4 ms\n"
     ]
    }
   ],
   "source": [
    "from sklearn.metrics.pairwise import cosine_similarity\n",
    "import pandas.io.sql as pds\n",
    "from src.utils import *\n",
    "\n",
    "k=5\n",
    "query_string = \"Is Genesis a scientific document?\" # looksgood\n",
    "query_string = \"Is genesis scientific?\"\n",
    "query_string = \"Should women be allowed to preach in ministry?\"\n",
    "query_string = \"Is honesty a good thing?\"\n",
    "query_string = \"Is the old testament promise over?\"\n",
    "query_string = \"Are Christian men happy?\" #22401\n",
    "query_string = 'How are religious men like Paul?'\n",
    "\n",
    "# score the stuff\n",
    "%time similarity_score=cosine_similarity(master_matrix, model.predict(query_string, type='query'))\n",
    "top_k_scores = similarity_score[similarity_score.argsort(axis=0)<5]\n",
    "print(f\"Top k scores: {top_k_scores}\")\n",
    "sortargs=np.flip(similarity_score.argsort(axis=0))\n",
    "sortargs = [sortarg[0] for sortarg in sortargs]\n",
    "\n",
    "# indices of best k answers\n",
    "idx_of_best_k_answers = find_idx_of_best_k_answers(sortargs, k)\n",
    "\n",
    "# call from sql\n",
    "#list_of_context_tuples = [query_SQL_by_idx(con, idx) for idx in idx_of_best_k_answers]\n",
    "data_df = pds.read_sql('SELECT * FROM master_kb_text WHERE idx IN (' + str(idx_of_best_k_answers)[1:-1] + ')', con)\n",
    "data_df = data_df.set_index('idx').loc[idx_of_best_k_answers]"
   ]
  },
  {
   "cell_type": "code",
   "execution_count": 128,
   "metadata": {},
   "outputs": [
    {
     "data": {
      "text/plain": [
       "array([[0.44664282]], dtype=float32)"
      ]
     },
     "execution_count": 128,
     "metadata": {},
     "output_type": "execute_result"
    }
   ],
   "source": [
    "cosine_similarity(\n",
    "    model.predict('Spiritual men are those who can say, with Paul, \"We have received, not the spirit of the world, but the Spirit which is of God, that we might know the things that are freely given to us of God.\"', type='response'),\n",
    "    model.predict('How are religious men like Paul?', type='query')\n",
    ")"
   ]
  },
  {
   "cell_type": "code",
   "execution_count": 15,
   "metadata": {},
   "outputs": [
    {
     "data": {
      "text/plain": [
       "\"A young athlete named Mitra and his sweetheart Neng Mardinah are to be wed. However, a young man named Mardjohan has fallen in love with Mardinah, and to win her heart he spreads rumours about Mitra being the son of a convicted criminal. In the backlash over the rumours, Mitra abandons the city and his beloved, hoping to find peace in the countryside. There, Mitra finds work at a factory which is, coincidentally, owned by Mardjohan. Refusing the romantic advances of a worker there, he leaves the factory. One day, he comes across Mardjohan, gravely injured following an accident. Mitra saves the man, then takes him for treatment. Mardjohan's mother, seeing Mitra, believes that he is her son who went missing when he was aged three. She finds several witnesses who testify to the resemblance and is ultimately able to prove her suspicions. Meanwhile, Mitra's name is cleared, and he is reunited with Mardinah.\""
      ]
     },
     "execution_count": 15,
     "metadata": {},
     "output_type": "execute_result"
    }
   ],
   "source": [
    "\"A young athlete named Mitra and his sweetheart Neng Mardinah are to be wed. However, a young man named Mardjohan has fallen in love with Mardinah, and to win her heart he spreads rumours about Mitra being the son of a convicted criminal. In the backlash over the rumours, Mitra abandons the city and his beloved, hoping to find peace in the countryside. There, Mitra finds work at a factory which is, coincidentally, owned by Mardjohan. Refusing the romantic advances of a worker there, he leaves the factory. One day, he comes across Mardjohan, gravely injured following an accident. Mitra saves the man, then takes him for treatment. Mardjohan's mother, seeing Mitra, believes that he is her son who went missing when he was aged three. She finds several witnesses who testify to the resemblance and is ultimately able to prove her suspicions. Meanwhile, Mitra's name is cleared, and he is reunited with Mardinah.\""
   ]
  },
  {
   "cell_type": "markdown",
   "metadata": {},
   "source": [
    "Does sentence level beats paragraph level?"
   ]
  },
  {
   "cell_type": "code",
   "execution_count": 16,
   "metadata": {},
   "outputs": [
    {
     "name": "stdout",
     "output_type": "stream",
     "text": [
      "1 - [[0.31539595]]\n",
      "2 - [[0.36572763]]\n",
      "3 - [[0.36249405]]\n",
      "4 - [[0.3475117]]\n",
      "5 - [[0.32431668]]\n",
      "6 - [[0.34061146]]\n",
      "7 - [[0.33991885]]\n",
      "8 - [[0.35982224]]\n",
      "9 - [[0.3580126]]\n",
      "10 - [[0.36043617]]\n"
     ]
    }
   ],
   "source": [
    "from sklearn.metrics.pairwise import cosine_similarity\n",
    "paragraph = \"A young athlete named Mitra and his sweetheart Neng Mardinah are to be wed. However, a young man named Mardjohan has fallen in love with Mardinah, and to win her heart he spreads rumours about Mitra being the son of a convicted criminal. In the backlash over the rumours, Mitra abandons the city and his beloved, hoping to find peace in the countryside. There, Mitra finds work at a factory which is, coincidentally, owned by Mardjohan. Refusing the romantic advances of a worker there, he leaves the factory. One day, he comes across Mardjohan, gravely injured following an accident. Mitra saves the man, then takes him for treatment. Mardjohan's mother, seeing Mitra, believes that he is her son who went missing when he was aged three. She finds several witnesses who testify to the resemblance and is ultimately able to prove her suspicions. Meanwhile, Mitra's name is cleared, and he is reunited with Mardinah.\"\n",
    "for p in range( 1, len(paragraph.split('.')) ):\n",
    "    sim = cosine_similarity(\n",
    "        model.predict( '.'.join(paragraph.split('.')[:p]) , type = 'response' ),\n",
    "        model.predict( 'What did Mitra do with injured Mardjohn?' , type = 'query' )\n",
    "    )\n",
    "    print(f\"{p} - {sim}\")"
   ]
  },
  {
   "cell_type": "code",
   "execution_count": 22,
   "metadata": {},
   "outputs": [
    {
     "name": "stdout",
     "output_type": "stream",
     "text": [
      "0 - [[0.31084716]]\n",
      "1 - [[0.3507892]]\n",
      "2 - [[0.40754443]]\n",
      "3 - [[0.3989994]]\n",
      "4 - [[0.1387328]]\n",
      "5 - [[0.30246824]]\n",
      "6 - [[0.42812115]]\n",
      "7 - [[0.3442791]]\n",
      "8 - [[0.12057083]]\n",
      "9 - [[0.16380061]]\n",
      "10 - [[0.08407693]]\n"
     ]
    }
   ],
   "source": [
    "from sklearn.metrics.pairwise import cosine_similarity\n",
    "# paragraph = 'There is indeed a prevalent suspicion, that in presence of the discoveries made by evolutionists the argument from design is no longer tenable. Evolution shows us that the correspondence of the structure of animals, with their modes of life, has been generated by the nature of the case; and it is concluded that a blind mechanical necessity and not an intelligent design rules all. But the discovery of the process by which the presently existing living forms have been evolved, and the perception that this process is governed by laws which have always been operating, do not make intelligence and design at all less necessary, but rather more so. As Professor Huxley himself says: \"The teleological and mechanical views of nature are not necessarily exclusive. The teleologist can always defy the evolutionist to disprove that the primordial molecular arrangement was not intended to evolve the phenomena of the universe.\" Evolution, in short, by disclosing to us the marvellous power and accuracy of natural law, compels us more emphatically than ever to refer all law to a supreme, originating intelligence.'\n",
    "for p in range( len(paragraph.split('.')) ):\n",
    "    \n",
    "    sentence_ = paragraph.split('.')[p].strip()\n",
    "    para_context = '.'.join(paragraph.split('.')[:p])\n",
    "    \n",
    "    sim = cosine_similarity(\n",
    "        model.predict( sentence_, context = para_context , type = 'response' ),\n",
    "        model.predict( 'What did Mitra do with injured Mardjohan?' , type = 'query' )\n",
    "    )\n",
    "    print(f\"{p} - {sim}\")"
   ]
  },
  {
   "cell_type": "code",
   "execution_count": 21,
   "metadata": {},
   "outputs": [
    {
     "data": {
      "text/plain": [
       "' Mitra saves the man, then takes him for treatment'"
      ]
     },
     "execution_count": 21,
     "metadata": {},
     "output_type": "execute_result"
    }
   ],
   "source": [
    "paragraph.split('.')[6]"
   ]
  },
  {
   "cell_type": "code",
   "execution_count": 8,
   "metadata": {},
   "outputs": [
    {
     "data": {
      "text/plain": [
       "'There is indeed a prevalent suspicion, that in presence of the discoveries made by evolutionists the argument from design is no longer tenable. Evolution shows us that the correspondence of the structure of animals, with their modes of life, has been generated by the nature of the case; and it is concluded that a blind mechanical necessity and not an intelligent design rules all. But the discovery of the process by which the presently existing living forms have been evolved, and the perception that this process is governed by laws which have always been operating, do not make intelligence and design at all less necessary, but rather more so. As Professor Huxley himself says: \"The teleological and mechanical views of nature are not necessarily exclusive. The teleologist can always defy the evolutionist to disprove that the primordial molecular arrangement was not intended to evolve the phenomena of the universe.\" Evolution, in short, by disclosing to us the marvellous power and accuracy of natural law, compels us more emphatically than ever to refer all law to a supreme, originating intelligence'"
      ]
     },
     "execution_count": 8,
     "metadata": {},
     "output_type": "execute_result"
    }
   ],
   "source": [
    "para_context"
   ]
  },
  {
   "cell_type": "code",
   "execution_count": null,
   "metadata": {},
   "outputs": [],
   "source": []
  }
 ],
 "metadata": {
  "kernelspec": {
   "display_name": "Python 3",
   "language": "python",
   "name": "python3"
  },
  "language_info": {
   "codemirror_mode": {
    "name": "ipython",
    "version": 3
   },
   "file_extension": ".py",
   "mimetype": "text/x-python",
   "name": "python",
   "nbconvert_exporter": "python",
   "pygments_lexer": "ipython3",
   "version": "3.6.9"
  }
 },
 "nbformat": 4,
 "nbformat_minor": 2
}
