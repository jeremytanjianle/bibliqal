{
 "cells": [
  {
   "cell_type": "markdown",
   "metadata": {},
   "source": [
    "### Checking the model inference"
   ]
  },
  {
   "cell_type": "code",
   "execution_count": 1,
   "metadata": {},
   "outputs": [],
   "source": [
    "import sys\n",
    "sys.path.append('..')\n",
    "\n",
    "import numpy as np\n",
    "import sqlite3 as sq\n",
    "from src.model import USEQA\n",
    "    \n",
    "# string addresses and questions\n",
    "query_string = \"Is Genesis a scientific document?\"\n",
    "vectorised_master_kb_dir = '../data/vectorised_master_sentence_kb.npz'\n",
    "master_kb_text_dir = '../data/master_kb_sentence_text_clean.db'\n",
    "\n",
    "# load master kb\n",
    "with np.load(vectorised_master_kb_dir) as data:\n",
    "    master_matrix = data['arr_0']\n",
    "    \n",
    "# sql connection\n",
    "con = sq.connect(master_kb_text_dir)"
   ]
  },
  {
   "cell_type": "code",
   "execution_count": 3,
   "metadata": {},
   "outputs": [
    {
     "data": {
      "text/plain": [
       "<src.model.USEQA at 0x7f118c046860>"
      ]
     },
     "execution_count": 3,
     "metadata": {},
     "output_type": "execute_result"
    }
   ],
   "source": [
    "# init model\n",
    "model = USEQA()"
   ]
  },
  {
   "cell_type": "code",
   "execution_count": 18,
   "metadata": {},
   "outputs": [
    {
     "data": {
      "text/html": [
       "<div>\n",
       "<style scoped>\n",
       "    .dataframe tbody tr th:only-of-type {\n",
       "        vertical-align: middle;\n",
       "    }\n",
       "\n",
       "    .dataframe tbody tr th {\n",
       "        vertical-align: top;\n",
       "    }\n",
       "\n",
       "    .dataframe thead th {\n",
       "        text-align: right;\n",
       "    }\n",
       "</style>\n",
       "<table border=\"1\" class=\"dataframe\">\n",
       "  <thead>\n",
       "    <tr style=\"text-align: right;\">\n",
       "      <th></th>\n",
       "      <th>sentence</th>\n",
       "      <th>paragraph</th>\n",
       "      <th>authors</th>\n",
       "      <th>document_nm</th>\n",
       "      <th>url</th>\n",
       "      <th>verse_references</th>\n",
       "    </tr>\n",
       "    <tr>\n",
       "      <th>idx</th>\n",
       "      <th></th>\n",
       "      <th></th>\n",
       "      <th></th>\n",
       "      <th></th>\n",
       "      <th></th>\n",
       "      <th></th>\n",
       "    </tr>\n",
       "  </thead>\n",
       "  <tbody>\n",
       "    <tr>\n",
       "      <th>186</th>\n",
       "      <td>Intimate communion with God, a spirit trained ...</td>\n",
       "      <td>Accepting this chapter then as it stands, and ...</td>\n",
       "      <td>Expositors Commentary</td>\n",
       "      <td></td>\n",
       "      <td>https://biblehub.com/commentaries/expositors/g...</td>\n",
       "      <td>Genesis-3</td>\n",
       "    </tr>\n",
       "    <tr>\n",
       "      <th>1141</th>\n",
       "      <td>This is seen to be an end worthy of all that i...</td>\n",
       "      <td>Here the beginning and the end of God’s revela...</td>\n",
       "      <td>Expositors Commentary</td>\n",
       "      <td></td>\n",
       "      <td>https://biblehub.com/commentaries/expositors/g...</td>\n",
       "      <td>Genesis-2</td>\n",
       "    </tr>\n",
       "    <tr>\n",
       "      <th>39</th>\n",
       "      <td>Of the existence of fruit trees prior to the e...</td>\n",
       "      <td>Now many persons cut the knot by simply denyin...</td>\n",
       "      <td>Expositors Commentary</td>\n",
       "      <td></td>\n",
       "      <td>https://biblehub.com/commentaries/expositors/g...</td>\n",
       "      <td>Genesis-2</td>\n",
       "    </tr>\n",
       "    <tr>\n",
       "      <th>6977</th>\n",
       "      <td>Apart from Him it had no meaning, and would ha...</td>\n",
       "      <td>JACOB’S blessing of his sons marks the close o...</td>\n",
       "      <td>Expositors Commentary</td>\n",
       "      <td></td>\n",
       "      <td>https://biblehub.com/commentaries/expositors/g...</td>\n",
       "      <td>Genesis-50</td>\n",
       "    </tr>\n",
       "    <tr>\n",
       "      <th>8557</th>\n",
       "      <td>V</td>\n",
       "      <td>Nor would the names of the children of the fou...</td>\n",
       "      <td>Expositors Commentary</td>\n",
       "      <td></td>\n",
       "      <td>https://biblehub.com/commentaries/expositors/e...</td>\n",
       "      <td>Exodus-7</td>\n",
       "    </tr>\n",
       "  </tbody>\n",
       "</table>\n",
       "</div>"
      ],
      "text/plain": [
       "                                               sentence  \\\n",
       "idx                                                       \n",
       "186   Intimate communion with God, a spirit trained ...   \n",
       "1141  This is seen to be an end worthy of all that i...   \n",
       "39    Of the existence of fruit trees prior to the e...   \n",
       "6977  Apart from Him it had no meaning, and would ha...   \n",
       "8557                                                  V   \n",
       "\n",
       "                                              paragraph  \\\n",
       "idx                                                       \n",
       "186   Accepting this chapter then as it stands, and ...   \n",
       "1141  Here the beginning and the end of God’s revela...   \n",
       "39    Now many persons cut the knot by simply denyin...   \n",
       "6977  JACOB’S blessing of his sons marks the close o...   \n",
       "8557  Nor would the names of the children of the fou...   \n",
       "\n",
       "                    authors document_nm  \\\n",
       "idx                                       \n",
       "186   Expositors Commentary               \n",
       "1141  Expositors Commentary               \n",
       "39    Expositors Commentary               \n",
       "6977  Expositors Commentary               \n",
       "8557  Expositors Commentary               \n",
       "\n",
       "                                                    url verse_references  \n",
       "idx                                                                       \n",
       "186   https://biblehub.com/commentaries/expositors/g...        Genesis-3  \n",
       "1141  https://biblehub.com/commentaries/expositors/g...        Genesis-2  \n",
       "39    https://biblehub.com/commentaries/expositors/g...        Genesis-2  \n",
       "6977  https://biblehub.com/commentaries/expositors/g...       Genesis-50  \n",
       "8557  https://biblehub.com/commentaries/expositors/e...         Exodus-7  "
      ]
     },
     "metadata": {},
     "output_type": "display_data"
    },
    {
     "data": {
      "text/plain": [
       "array([0.10903956, 0.04264995, 0.12735684, 0.15464602, 0.04423378],\n",
       "      dtype=float32)"
      ]
     },
     "metadata": {},
     "output_type": "display_data"
    }
   ],
   "source": [
    "data_df, top_scores = model.make_query(query_string, master_matrix, con)\n",
    "display(data_df)\n",
    "display(top_scores)"
   ]
  },
  {
   "cell_type": "code",
   "execution_count": 39,
   "metadata": {},
   "outputs": [
    {
     "data": {
      "text/plain": [
       "array([[0.28925547]], dtype=float32)"
      ]
     },
     "execution_count": 39,
     "metadata": {},
     "output_type": "execute_result"
    }
   ],
   "source": [
    "from sklearn.metrics.pairwise import cosine_similarity\n",
    "k=0\n",
    "cosine_similarity(\n",
    "    model.predict(data_df.sentence.iloc[k],data_df.paragraph.iloc[k], type='response'),\n",
    "    model.predict(query_string, type='query')\n",
    ")"
   ]
  },
  {
   "cell_type": "code",
   "execution_count": 57,
   "metadata": {},
   "outputs": [
    {
     "data": {
      "text/plain": [
       "array([[0.36601952],\n",
       "       [0.30955666],\n",
       "       [0.4297026 ],\n",
       "       [0.2522238 ]], dtype=float32)"
      ]
     },
     "metadata": {},
     "output_type": "display_data"
    },
    {
     "data": {
      "text/plain": [
       "'Max: 0.5348503589630127'"
      ]
     },
     "metadata": {},
     "output_type": "display_data"
    }
   ],
   "source": [
    "encoded_res = model.predict(sentence, paragraph, type='response')\n",
    "encoded_que = model.predict(query_string, type='query')\n",
    "\n",
    "similarity_score= cosine_similarity(master_matrix, encoded_que)\n",
    "display(sims[:4])\n",
    "display(f\"Max: {sims.max()}\")"
   ]
  },
  {
   "cell_type": "code",
   "execution_count": 54,
   "metadata": {},
   "outputs": [
    {
     "data": {
      "text/plain": [
       "52218"
      ]
     },
     "execution_count": 54,
     "metadata": {},
     "output_type": "execute_result"
    }
   ],
   "source": [
    "sims.argmax()"
   ]
  },
  {
   "cell_type": "code",
   "execution_count": 98,
   "metadata": {},
   "outputs": [
    {
     "data": {
      "text/plain": [
       "[(59094.0,\n",
       "  'The first chapter of Genesis is the classic example of the appropriation by an inspired writer of the scientific spirit and method',\n",
       "  'Chronicles is not the most important witness to a sympathetic relationship between the Bible and exact science. The first chapter of Genesis is the classic example of the appropriation by an inspired writer of the scientific spirit and method. Some chapters in Job show a distinctly scientific interest in natural phenomena. Moreover, the direct concern of Chronicles is in the religious aspects of social science. And yet there is a patient accumulation of data with no obvious dramatic value: names, dates, numbers, specifications, and ritual which do not improve the literary character of the narrative. This conscientious recording of dry facts, this noting down of anything and everything that connects with the subject, is closely akin to the initial processes of the inductive sciences. True, the chronicler’s interests are in some directions narrowed by personal and professional feeling; but within these limits he is anxious to make a complete record, which, as we have seen, sometimes leads to repetition. Now inductive science is based on unlimited statistics. The astronomer and biologist share the chronicler’s appetite for this kind of mental food. The lists in Chronicles are few and meager compared to the records of Greenwich Observatory or the volumes which contain the data of biology or sociology; but the chronicler becomes in a certain sense the forerunner of Darwin, Spencer, and Galton. The differences are indeed immense. The interval of two thousand odd years between the ancient annalist and the modern scientists has not been thrown away. In estimating the value of evidence and interpreting its significance, the chronicler was a mere child compared with his modern successors. His aims and interests were entirely different from theirs. But yet he was moved by a spirit which they may be said to inherit. His careful collection of facts, even his tendency to read the ideas and institutions of his own time into ancient history, are indications of a reverence for the past and of an anxiety to base ideas and action upon a knowledge of that past. This foreshadows the reverence of modern science for experience, its anxiety to base its laws and theories upon observation of what has actually occurred. The principle that the past determines and interprets the present and the future lies at the root of the theological attitude of the most conservative minds and the scientific work of the most advanced thinkers. The conservative spirit, like the chronicler, is apt to suffer its inherited pre-possessions and personal interests to hinder a true observation and understanding of the past. But the chronicler’s opportunities and experience were narrow indeed compared with those of theological students today; and we have every right to lay stress on the progress which he had achieved and the onward path that it indicated rather than on the yet more advanced stages which still lay beyond his horizon.',\n",
       "  'Expositors Commentary',\n",
       "  '',\n",
       "  'https://biblehub.com/commentaries/expositors/1_chronicles/5.htm',\n",
       "  '1_chronicles-5')]"
      ]
     },
     "execution_count": 98,
     "metadata": {},
     "output_type": "execute_result"
    }
   ],
   "source": [
    "from src.utils import query_SQL_by_idx\n",
    "\n",
    "query_SQL_by_idx(con, 59094)"
   ]
  },
  {
   "cell_type": "markdown",
   "metadata": {},
   "source": [
    "### The current `make_query()` function\n",
    "```\n",
    "def make_query(self, querystring, vectorized_knowledge, con, k=5, predict_type='query'):\n",
    "    \"\"\"Make a query against the stored vectorized knowledge. \n",
    "    Choose index=True to return sorted index of matches.\n",
    "    type can be 'query' or 'response' if you are comparing statements\n",
    "    \"\"\"\n",
    "    # score the stuff\n",
    "    similarity_score=cosine_similarity(vectorized_knowledge, self.predict([querystring], type=predict_type))\n",
    "    top_k_scores = similarity_score[similarity_score.argsort(axis=0)<k]\n",
    "    sortargs=np.flip(similarity_score.argsort(axis=0))\n",
    "    sortargs = [sortarg[0] for sortarg in sortargs]\n",
    "\n",
    "    # indices of best k answers\n",
    "    idx_of_best_k_answers = find_idx_of_best_k_answers(sortargs, k)\n",
    "\n",
    "    # call from sql\n",
    "    #list_of_context_tuples = [query_SQL_by_idx(con, idx) for idx in idx_of_best_k_answers]\n",
    "    data_df = pds.read_sql('SELECT * FROM master_kb_text WHERE idx IN (' + str(idx_of_best_k_answers)[1:-1] + ')', con)\n",
    "    data_df = data_df.set_index('idx').loc[idx_of_best_k_answers]\n",
    "    return data_df, top_k_scores\n",
    "        \n",
    "```"
   ]
  },
  {
   "cell_type": "code",
   "execution_count": 107,
   "metadata": {},
   "outputs": [
    {
     "data": {
      "text/plain": [
       "array([60897, 58758, 52218, 59094, 55488])"
      ]
     },
     "execution_count": 107,
     "metadata": {},
     "output_type": "execute_result"
    }
   ],
   "source": [
    "idx_of_best_k_answers = np.argsort(similarity_score.flatten().tolist())[-5:]\n",
    "idx_of_best_k_answers"
   ]
  },
  {
   "cell_type": "markdown",
   "metadata": {},
   "source": [
    "Arg sort is the better sorter.  \n",
    "`>>>np.argsort([5,4,6,6,8,1])`  \n",
    "`>>>array([5, 1, 0, 2, 3, 4])`  \n",
    "Intuitively, (1) argsort gives us the indices of increasingly higher values (2) by indexing [-5:] we are picking out the top 5 indices"
   ]
  },
  {
   "cell_type": "markdown",
   "metadata": {},
   "source": [
    "### Perfectly correct encoding"
   ]
  },
  {
   "cell_type": "code",
   "execution_count": 2,
   "metadata": {},
   "outputs": [
    {
     "data": {
      "text/plain": [
       "array([[0.36601955]], dtype=float32)"
      ]
     },
     "execution_count": 2,
     "metadata": {},
     "output_type": "execute_result"
    }
   ],
   "source": [
    "from sklearn.metrics.pairwise import cosine_similarity\n",
    "\n",
    "query_string = \"Is Genesis a scientific document?\"\n",
    "sentence = \"IF anyone is in search of accurate information regarding the age of this earth, or its relation to the sun, moon, and stars, or regarding the order in which plants and animals have appeared upon it, he is referred to recent textbooks in astronomy, geology, and palaeontology.\"\n",
    "paragraph = \"IF anyone is in search of accurate information regarding the age of this earth, or its relation to the sun, moon, and stars, or regarding the order in which plants and animals have appeared upon it, he is referred to recent textbooks in astronomy, geology, and palaeontology. No one for a moment dreams of referring a serious student of these subjects to the Bible as a source of information. It is not the object of the writers of Scripture to impart physical instruction or to enlarge the bounds of scientific knowledge. But if any one wishes to know what connection the world has with God, if he seeks to trace back all that now is to the very fountain-head of life, if he desires to discover some unifying principle, some illuminating purpose in the history of this earth, then we confidently refer him to these and the subsequent chapters of Scripture as his safest, and indeed his only, guide to the information he seeks. Every writing must be judged by the object the writer has in view. If the object of the writer of these chapters was to convey physical information, then certainly it is imperfectly fulfilled. But if his object was to give an intelligible account of God’s relation to the world and to man, then it must be owned that he has been successful in the highest degree.\"\n",
    "\n",
    "cosine_similarity(\n",
    "    model.predict(sentence, paragraph, type='response'),\n",
    "    model.predict(query_string, type='query')\n",
    ")\n",
    "print(cosine_sim)\n",
    "\n",
    "data_df, top_scores = model.make_query(query_string, master_matrix, con)\n",
    "display(data_df)\n",
    "display(top_scores)"
   ]
  },
  {
   "cell_type": "code",
   "execution_count": 5,
   "metadata": {},
   "outputs": [
    {
     "name": "stdout",
     "output_type": "stream",
     "text": [
      "[[0.6785306]]\n"
     ]
    },
    {
     "data": {
      "text/html": [
       "<div>\n",
       "<style scoped>\n",
       "    .dataframe tbody tr th:only-of-type {\n",
       "        vertical-align: middle;\n",
       "    }\n",
       "\n",
       "    .dataframe tbody tr th {\n",
       "        vertical-align: top;\n",
       "    }\n",
       "\n",
       "    .dataframe thead th {\n",
       "        text-align: right;\n",
       "    }\n",
       "</style>\n",
       "<table border=\"1\" class=\"dataframe\">\n",
       "  <thead>\n",
       "    <tr style=\"text-align: right;\">\n",
       "      <th></th>\n",
       "      <th>sentence</th>\n",
       "      <th>paragraph</th>\n",
       "      <th>authors</th>\n",
       "      <th>document_nm</th>\n",
       "      <th>url</th>\n",
       "      <th>verse_references</th>\n",
       "    </tr>\n",
       "    <tr>\n",
       "      <th>idx</th>\n",
       "      <th></th>\n",
       "      <th></th>\n",
       "      <th></th>\n",
       "      <th></th>\n",
       "      <th></th>\n",
       "      <th></th>\n",
       "    </tr>\n",
       "  </thead>\n",
       "  <tbody>\n",
       "    <tr>\n",
       "      <th>137977</th>\n",
       "      <td>It may have been composed almost contemporaneo...</td>\n",
       "      <td>This letter was written from prison in Rome (A...</td>\n",
       "      <td>Macarthur John</td>\n",
       "      <td>- Bible Introductions - Colossians</td>\n",
       "      <td>https://www.blueletterbible.org/Comm/macarthur...</td>\n",
       "      <td></td>\n",
       "    </tr>\n",
       "    <tr>\n",
       "      <th>137893</th>\n",
       "      <td>Another alternative has been that Paul wrote t...</td>\n",
       "      <td>Another alternative has been that Paul wrote t...</td>\n",
       "      <td>Macarthur John</td>\n",
       "      <td>- Bible Introductions - Philippians</td>\n",
       "      <td>https://www.blueletterbible.org/Comm/macarthur...</td>\n",
       "      <td></td>\n",
       "    </tr>\n",
       "    <tr>\n",
       "      <th>138183</th>\n",
       "      <td>The book claims that the Apostle Paul was its ...</td>\n",
       "      <td>The book claims that the Apostle Paul was its ...</td>\n",
       "      <td>Macarthur John</td>\n",
       "      <td>- Bible Introductions - Philemon</td>\n",
       "      <td>https://www.blueletterbible.org/Comm/macarthur...</td>\n",
       "      <td></td>\n",
       "    </tr>\n",
       "    <tr>\n",
       "      <th>137839</th>\n",
       "      <td>It may have been composed almost contemporaneo...</td>\n",
       "      <td>There is no indication that the authorship of ...</td>\n",
       "      <td>Macarthur John</td>\n",
       "      <td>- Bible Introductions - Ephesians</td>\n",
       "      <td>https://www.blueletterbible.org/Comm/macarthur...</td>\n",
       "      <td></td>\n",
       "    </tr>\n",
       "    <tr>\n",
       "      <th>137945</th>\n",
       "      <td>Additional evidence for Paul’s authorship come...</td>\n",
       "      <td>Paul is identified as author at the beginning ...</td>\n",
       "      <td>Macarthur John</td>\n",
       "      <td>- Bible Introductions - Colossians</td>\n",
       "      <td>https://www.blueletterbible.org/Comm/macarthur...</td>\n",
       "      <td></td>\n",
       "    </tr>\n",
       "  </tbody>\n",
       "</table>\n",
       "</div>"
      ],
      "text/plain": [
       "                                                 sentence  \\\n",
       "idx                                                         \n",
       "137977  It may have been composed almost contemporaneo...   \n",
       "137893  Another alternative has been that Paul wrote t...   \n",
       "138183  The book claims that the Apostle Paul was its ...   \n",
       "137839  It may have been composed almost contemporaneo...   \n",
       "137945  Additional evidence for Paul’s authorship come...   \n",
       "\n",
       "                                                paragraph         authors  \\\n",
       "idx                                                                         \n",
       "137977  This letter was written from prison in Rome (A...  Macarthur John   \n",
       "137893  Another alternative has been that Paul wrote t...  Macarthur John   \n",
       "138183  The book claims that the Apostle Paul was its ...  Macarthur John   \n",
       "137839  There is no indication that the authorship of ...  Macarthur John   \n",
       "137945  Paul is identified as author at the beginning ...  Macarthur John   \n",
       "\n",
       "                                 document_nm  \\\n",
       "idx                                            \n",
       "137977    - Bible Introductions - Colossians   \n",
       "137893   - Bible Introductions - Philippians   \n",
       "138183      - Bible Introductions - Philemon   \n",
       "137839     - Bible Introductions - Ephesians   \n",
       "137945    - Bible Introductions - Colossians   \n",
       "\n",
       "                                                      url verse_references  \n",
       "idx                                                                         \n",
       "137977  https://www.blueletterbible.org/Comm/macarthur...                   \n",
       "137893  https://www.blueletterbible.org/Comm/macarthur...                   \n",
       "138183  https://www.blueletterbible.org/Comm/macarthur...                   \n",
       "137839  https://www.blueletterbible.org/Comm/macarthur...                   \n",
       "137945  https://www.blueletterbible.org/Comm/macarthur...                   "
      ]
     },
     "metadata": {},
     "output_type": "display_data"
    },
    {
     "data": {
      "text/plain": [
       "array([[0.57329506],\n",
       "       [0.5774895 ],\n",
       "       [0.5821841 ],\n",
       "       [0.58623827],\n",
       "       [0.6483907 ]], dtype=float32)"
      ]
     },
     "metadata": {},
     "output_type": "display_data"
    }
   ],
   "source": [
    "from sklearn.metrics.pairwise import cosine_similarity\n",
    "\n",
    "query_string = \"Was the book of Philemon really written by Apostle Paul or was it forged?\"\n",
    "sentence = \"The book claims that the Apostle Paul was its writer (vv. 1, 9, 19), a claim that few in the history of the church have disputed, especially since there is nothing in Philemon that a forger would have been motivated to write.\"\n",
    "paragraph = \"The book claims that the Apostle Paul was its writer (vv. 1, 9, 19), a claim that few in the history of the church have disputed, especially since there is nothing in Philemon that a forger would have been motivated to write. It is one of the Prison Epistles, along with Ephesians, Philippians, and Colossians. Its close connection with Colossians, which Paul wrote at the same time (ca. A.D. 60–62; cf. vv. 1, 16), brought early and unquestioned vindication of Paul’s authorship by the early church fathers (e.g., Jerome, Chrysostom, and Theodore of Mopsuestia). The earliest of NT canons, the Muratorian (ca. A.D. 170), includes Philemon. For biographical information on Paul, see Introduction to Romans: Author and Date; for the date and place of Philemon’s writing, see Introductions to Ephesians and Philippians: Author and Date.\"\n",
    "\n",
    "cosine_sim = cosine_similarity(\n",
    "    model.predict(sentence, paragraph, type='response'),\n",
    "    model.predict(query_string, type='query')\n",
    ")\n",
    "print(cosine_sim)\n",
    "\n",
    "data_df, top_scores = model.make_query(query_string, master_matrix, con)\n",
    "display(data_df)\n",
    "display(top_scores)"
   ]
  },
  {
   "cell_type": "markdown",
   "metadata": {},
   "source": [
    "### A better sentence split\n",
    "`split('.')` breaks abbrevs too which is not what we want. A better split would be to use spacy's sentence split instead. \n"
   ]
  },
  {
   "cell_type": "code",
   "execution_count": 11,
   "metadata": {},
   "outputs": [
    {
     "data": {
      "text/plain": [
       "['The book claims that the Apostle Paul was its writer (vv.',\n",
       " '1, 9, 19), a claim that few in the history of the church have disputed, especially since there is nothing in Philemon that a forger would have been motivated to write.']"
      ]
     },
     "execution_count": 11,
     "metadata": {},
     "output_type": "execute_result"
    }
   ],
   "source": [
    "from nltk import tokenize\n",
    "def sentence_tokenize(paragraph):\n",
    "    \"\"\"\n",
    "    https://stackoverflow.com/questions/4576077/python-split-text-on-sentences\n",
    "    \"\"\"\n",
    "    return tokenize.sent_tokenize(paragraph)\n",
    "\n",
    "sentence_tokenize(sentence)"
   ]
  },
  {
   "cell_type": "code",
   "execution_count": 19,
   "metadata": {},
   "outputs": [
    {
     "data": {
      "text/plain": [
       "['The book claims that the Apostle Paul was its writer (vv. 1, 9, 19), a claim that few in the history of the church have disputed, especially since there is nothing in Philemon that a forger would have been motivated to write.',\n",
       " 'It is one of the Prison Epistles, along with Ephesians, Philippians, and Colossians.',\n",
       " 'Its close connection with Colossians, which Paul wrote at the same time (ca.',\n",
       " 'A.D. 60–62;',\n",
       " 'cf.',\n",
       " 'vv. 1, 16), brought early and unquestioned vindication of Paul',\n",
       " '’s authorship by the early church fathers (e.g., Jerome, Chrysostom, and Theodore of Mopsuestia).',\n",
       " 'The earliest of NT canons, the Muratorian (ca. A.D. 170), includes Philemon.',\n",
       " 'For biographical information on Paul, see Introduction to Romans:',\n",
       " 'Author and Date; for the date and place of Philemon’s writing, see Introductions to Ephesians and Philippians: Author and Date.']"
      ]
     },
     "execution_count": 19,
     "metadata": {},
     "output_type": "execute_result"
    }
   ],
   "source": [
    "import spacy\n",
    "nlp = spacy.load('en')\n",
    "\n",
    "def sentence_tokenize(paragraph):\n",
    "    \"\"\"\n",
    "    https://stackoverflow.com/questions/4576077/python-split-text-on-sentences\n",
    "    \"\"\"\n",
    "    tokens = nlp(paragraph)\n",
    "    return [str(sent.string.strip()) for sent in tokens.sents]\n",
    "\n",
    "sentence_tokenize(paragraph)"
   ]
  },
  {
   "cell_type": "markdown",
   "metadata": {},
   "source": [
    "### Checking `make_query()` function."
   ]
  },
  {
   "cell_type": "code",
   "execution_count": 1,
   "metadata": {},
   "outputs": [
    {
     "name": "stdout",
     "output_type": "stream",
     "text": [
      "model initiated!\n"
     ]
    },
    {
     "data": {
      "text/html": [
       "<div>\n",
       "<style scoped>\n",
       "    .dataframe tbody tr th:only-of-type {\n",
       "        vertical-align: middle;\n",
       "    }\n",
       "\n",
       "    .dataframe tbody tr th {\n",
       "        vertical-align: top;\n",
       "    }\n",
       "\n",
       "    .dataframe thead th {\n",
       "        text-align: right;\n",
       "    }\n",
       "</style>\n",
       "<table border=\"1\" class=\"dataframe\">\n",
       "  <thead>\n",
       "    <tr style=\"text-align: right;\">\n",
       "      <th></th>\n",
       "      <th>sentence</th>\n",
       "      <th>paragraph</th>\n",
       "      <th>authors</th>\n",
       "      <th>document_nm</th>\n",
       "      <th>url</th>\n",
       "      <th>verse_references</th>\n",
       "    </tr>\n",
       "    <tr>\n",
       "      <th>idx</th>\n",
       "      <th></th>\n",
       "      <th></th>\n",
       "      <th></th>\n",
       "      <th></th>\n",
       "      <th></th>\n",
       "      <th></th>\n",
       "    </tr>\n",
       "  </thead>\n",
       "  <tbody>\n",
       "    <tr>\n",
       "      <th>60897</th>\n",
       "      <td>The first chapter of Genesis is the classic ex...</td>\n",
       "      <td>Chronicles is not the most important witness t...</td>\n",
       "      <td>Expositors Commentary</td>\n",
       "      <td></td>\n",
       "      <td>https://biblehub.com/commentaries/expositors/1...</td>\n",
       "      <td>1_chronicles-6</td>\n",
       "    </tr>\n",
       "    <tr>\n",
       "      <th>58758</th>\n",
       "      <td>The first chapter of Genesis is the classic ex...</td>\n",
       "      <td>Chronicles is not the most important witness t...</td>\n",
       "      <td>Expositors Commentary</td>\n",
       "      <td></td>\n",
       "      <td>https://biblehub.com/commentaries/expositors/1...</td>\n",
       "      <td>1_chronicles-4</td>\n",
       "    </tr>\n",
       "    <tr>\n",
       "      <th>52218</th>\n",
       "      <td>The first chapter of Genesis is the classic ex...</td>\n",
       "      <td>Chronicles is not the most important witness t...</td>\n",
       "      <td>Expositors Commentary</td>\n",
       "      <td></td>\n",
       "      <td>https://biblehub.com/commentaries/expositors/1...</td>\n",
       "      <td>1_chronicles-2</td>\n",
       "    </tr>\n",
       "    <tr>\n",
       "      <th>55488</th>\n",
       "      <td>The first chapter of Genesis is the classic ex...</td>\n",
       "      <td>Chronicles is not the most important witness t...</td>\n",
       "      <td>Expositors Commentary</td>\n",
       "      <td></td>\n",
       "      <td>https://biblehub.com/commentaries/expositors/1...</td>\n",
       "      <td>1_chronicles-3</td>\n",
       "    </tr>\n",
       "    <tr>\n",
       "      <th>59094</th>\n",
       "      <td>The first chapter of Genesis is the classic ex...</td>\n",
       "      <td>Chronicles is not the most important witness t...</td>\n",
       "      <td>Expositors Commentary</td>\n",
       "      <td></td>\n",
       "      <td>https://biblehub.com/commentaries/expositors/1...</td>\n",
       "      <td>1_chronicles-5</td>\n",
       "    </tr>\n",
       "  </tbody>\n",
       "</table>\n",
       "</div>"
      ],
      "text/plain": [
       "                                                sentence  \\\n",
       "idx                                                        \n",
       "60897  The first chapter of Genesis is the classic ex...   \n",
       "58758  The first chapter of Genesis is the classic ex...   \n",
       "52218  The first chapter of Genesis is the classic ex...   \n",
       "55488  The first chapter of Genesis is the classic ex...   \n",
       "59094  The first chapter of Genesis is the classic ex...   \n",
       "\n",
       "                                               paragraph  \\\n",
       "idx                                                        \n",
       "60897  Chronicles is not the most important witness t...   \n",
       "58758  Chronicles is not the most important witness t...   \n",
       "52218  Chronicles is not the most important witness t...   \n",
       "55488  Chronicles is not the most important witness t...   \n",
       "59094  Chronicles is not the most important witness t...   \n",
       "\n",
       "                     authors document_nm  \\\n",
       "idx                                        \n",
       "60897  Expositors Commentary               \n",
       "58758  Expositors Commentary               \n",
       "52218  Expositors Commentary               \n",
       "55488  Expositors Commentary               \n",
       "59094  Expositors Commentary               \n",
       "\n",
       "                                                     url verse_references  \n",
       "idx                                                                        \n",
       "60897  https://biblehub.com/commentaries/expositors/1...   1_chronicles-6  \n",
       "58758  https://biblehub.com/commentaries/expositors/1...   1_chronicles-4  \n",
       "52218  https://biblehub.com/commentaries/expositors/1...   1_chronicles-2  \n",
       "55488  https://biblehub.com/commentaries/expositors/1...   1_chronicles-3  \n",
       "59094  https://biblehub.com/commentaries/expositors/1...   1_chronicles-5  "
      ]
     },
     "metadata": {},
     "output_type": "display_data"
    },
    {
     "data": {
      "text/plain": [
       "array([[0.5348503 ],\n",
       "       [0.5348503 ],\n",
       "       [0.53485036],\n",
       "       [0.53485036],\n",
       "       [0.53485036]], dtype=float32)"
      ]
     },
     "metadata": {},
     "output_type": "display_data"
    }
   ],
   "source": [
    "import sys\n",
    "sys.path.append('..')\n",
    "\n",
    "import numpy as np\n",
    "import sqlite3 as sq\n",
    "from src.model import USEQA\n",
    "    \n",
    "# string addresses and questions\n",
    "query_string = \"Is Genesis a scientific document?\"\n",
    "vectorised_master_kb_dir = '../data/vectorised_master_sentence_kb.npz'\n",
    "master_kb_text_dir = '../data/master_kb_sentence_text.db'\n",
    "\n",
    "# load master kb\n",
    "with np.load(vectorised_master_kb_dir) as data:\n",
    "    master_matrix = data['arr_0']\n",
    "    \n",
    "# sql connection\n",
    "con = sq.connect(master_kb_text_dir)\n",
    "    \n",
    "model = USEQA()\n",
    "data_df, top_scores = model.make_query(query_string, master_matrix, con)\n",
    "display(data_df)\n",
    "display(top_scores)"
   ]
  },
  {
   "cell_type": "markdown",
   "metadata": {},
   "source": [
    "### Appendix: Correct cleaning and handling of indices"
   ]
  },
  {
   "cell_type": "code",
   "execution_count": 3,
   "metadata": {},
   "outputs": [
    {
     "data": {
      "text/html": [
       "<div>\n",
       "<style scoped>\n",
       "    .dataframe tbody tr th:only-of-type {\n",
       "        vertical-align: middle;\n",
       "    }\n",
       "\n",
       "    .dataframe tbody tr th {\n",
       "        vertical-align: top;\n",
       "    }\n",
       "\n",
       "    .dataframe thead th {\n",
       "        text-align: right;\n",
       "    }\n",
       "</style>\n",
       "<table border=\"1\" class=\"dataframe\">\n",
       "  <thead>\n",
       "    <tr style=\"text-align: right;\">\n",
       "      <th></th>\n",
       "      <th>idx</th>\n",
       "      <th>sentence</th>\n",
       "      <th>paragraph</th>\n",
       "      <th>authors</th>\n",
       "      <th>document_nm</th>\n",
       "      <th>url</th>\n",
       "      <th>verse_references</th>\n",
       "    </tr>\n",
       "  </thead>\n",
       "  <tbody>\n",
       "    <tr>\n",
       "      <th>0</th>\n",
       "      <td>0</td>\n",
       "      <td>IF anyone is in search of accurate information...</td>\n",
       "      <td>IF anyone is in search of accurate information...</td>\n",
       "      <td>Expositors Commentary</td>\n",
       "      <td></td>\n",
       "      <td>https://biblehub.com/commentaries/expositors/g...</td>\n",
       "      <td>Genesis-2</td>\n",
       "    </tr>\n",
       "    <tr>\n",
       "      <th>1</th>\n",
       "      <td>1</td>\n",
       "      <td>No one for a moment dreams of referring a seri...</td>\n",
       "      <td>IF anyone is in search of accurate information...</td>\n",
       "      <td>Expositors Commentary</td>\n",
       "      <td></td>\n",
       "      <td>https://biblehub.com/commentaries/expositors/g...</td>\n",
       "      <td>Genesis-2</td>\n",
       "    </tr>\n",
       "    <tr>\n",
       "      <th>2</th>\n",
       "      <td>2</td>\n",
       "      <td>It is not the object of the writers of Scriptu...</td>\n",
       "      <td>IF anyone is in search of accurate information...</td>\n",
       "      <td>Expositors Commentary</td>\n",
       "      <td></td>\n",
       "      <td>https://biblehub.com/commentaries/expositors/g...</td>\n",
       "      <td>Genesis-2</td>\n",
       "    </tr>\n",
       "  </tbody>\n",
       "</table>\n",
       "</div>"
      ],
      "text/plain": [
       "   idx                                           sentence  \\\n",
       "0    0  IF anyone is in search of accurate information...   \n",
       "1    1  No one for a moment dreams of referring a seri...   \n",
       "2    2  It is not the object of the writers of Scriptu...   \n",
       "\n",
       "                                           paragraph                authors  \\\n",
       "0  IF anyone is in search of accurate information...  Expositors Commentary   \n",
       "1  IF anyone is in search of accurate information...  Expositors Commentary   \n",
       "2  IF anyone is in search of accurate information...  Expositors Commentary   \n",
       "\n",
       "  document_nm                                                url  \\\n",
       "0              https://biblehub.com/commentaries/expositors/g...   \n",
       "1              https://biblehub.com/commentaries/expositors/g...   \n",
       "2              https://biblehub.com/commentaries/expositors/g...   \n",
       "\n",
       "  verse_references  \n",
       "0        Genesis-2  \n",
       "1        Genesis-2  \n",
       "2        Genesis-2  "
      ]
     },
     "execution_count": 3,
     "metadata": {},
     "output_type": "execute_result"
    }
   ],
   "source": [
    "master_kb_text_dir = '../data/master_kb_sentence_text.db'\n",
    "    \n",
    "# sql connection\n",
    "con = sq.connect(master_kb_text_dir)\n",
    "\n",
    "import pandas.io.sql as pds\n",
    "data_df = pds.read_sql('SELECT * FROM master_kb_text', con)\n",
    "\n",
    "data_df = data_df.set_index(np.arange(len(data_df)))\n",
    "data_df.head(3)"
   ]
  },
  {
   "cell_type": "code",
   "execution_count": 4,
   "metadata": {},
   "outputs": [
    {
     "name": "stdout",
     "output_type": "stream",
     "text": [
      "147003 before\n",
      "147003 after\n"
     ]
    }
   ],
   "source": [
    "# dropping duplicates\n",
    "print(f\"{len(data_df)} before\")\n",
    "data_df = data_df.drop_duplicates('sentence')\n",
    "print(f\"{len(data_df)} after\")"
   ]
  },
  {
   "cell_type": "markdown",
   "metadata": {},
   "source": [
    "The unclean base has idx correctly, but it has an index there"
   ]
  },
  {
   "cell_type": "code",
   "execution_count": 5,
   "metadata": {},
   "outputs": [],
   "source": [
    "data_df = data_df.assign(idx = np.arange(len(data_df)))\n",
    "data_df = data_df.set_index('idx')"
   ]
  },
  {
   "cell_type": "code",
   "execution_count": 6,
   "metadata": {},
   "outputs": [],
   "source": [
    "import os\n",
    "master_kb_text_clean_dir=\"../data/master_kb_sentence_text_clean.db\"\n",
    "\n",
    "if os.path.exists(master_kb_text_clean_dir):\n",
    "    os.remove(master_kb_text_clean_dir)\n",
    "con = sq.connect(master_kb_text_clean_dir)\n",
    "query = 'CREATE TABLE master_kb_text (idx real, sentence text, paragraph text, authors text, document_nm text, url text, verse_references text)'\n",
    "con.execute(query)\n",
    "data_df.to_sql('master_kb_text', con=con, if_exists='replace')\n",
    "# con.close()"
   ]
  },
  {
   "cell_type": "code",
   "execution_count": 3,
   "metadata": {},
   "outputs": [
    {
     "data": {
      "text/html": [
       "<div>\n",
       "<style scoped>\n",
       "    .dataframe tbody tr th:only-of-type {\n",
       "        vertical-align: middle;\n",
       "    }\n",
       "\n",
       "    .dataframe tbody tr th {\n",
       "        vertical-align: top;\n",
       "    }\n",
       "\n",
       "    .dataframe thead th {\n",
       "        text-align: right;\n",
       "    }\n",
       "</style>\n",
       "<table border=\"1\" class=\"dataframe\">\n",
       "  <thead>\n",
       "    <tr style=\"text-align: right;\">\n",
       "      <th></th>\n",
       "      <th>idx</th>\n",
       "      <th>sentence</th>\n",
       "      <th>paragraph</th>\n",
       "      <th>authors</th>\n",
       "      <th>document_nm</th>\n",
       "      <th>url</th>\n",
       "      <th>verse_references</th>\n",
       "    </tr>\n",
       "  </thead>\n",
       "  <tbody>\n",
       "    <tr>\n",
       "      <th>0</th>\n",
       "      <td>1</td>\n",
       "      <td>No one for a moment dreams of referring a seri...</td>\n",
       "      <td>IF anyone is in search of accurate information...</td>\n",
       "      <td>Expositors Commentary</td>\n",
       "      <td></td>\n",
       "      <td>https://biblehub.com/commentaries/expositors/g...</td>\n",
       "      <td>Genesis-2</td>\n",
       "    </tr>\n",
       "    <tr>\n",
       "      <th>1</th>\n",
       "      <td>2</td>\n",
       "      <td>It is not the object of the writers of Scriptu...</td>\n",
       "      <td>IF anyone is in search of accurate information...</td>\n",
       "      <td>Expositors Commentary</td>\n",
       "      <td></td>\n",
       "      <td>https://biblehub.com/commentaries/expositors/g...</td>\n",
       "      <td>Genesis-2</td>\n",
       "    </tr>\n",
       "  </tbody>\n",
       "</table>\n",
       "</div>"
      ],
      "text/plain": [
       "   idx                                           sentence  \\\n",
       "0    1  No one for a moment dreams of referring a seri...   \n",
       "1    2  It is not the object of the writers of Scriptu...   \n",
       "\n",
       "                                           paragraph                authors  \\\n",
       "0  IF anyone is in search of accurate information...  Expositors Commentary   \n",
       "1  IF anyone is in search of accurate information...  Expositors Commentary   \n",
       "\n",
       "  document_nm                                                url  \\\n",
       "0              https://biblehub.com/commentaries/expositors/g...   \n",
       "1              https://biblehub.com/commentaries/expositors/g...   \n",
       "\n",
       "  verse_references  \n",
       "0        Genesis-2  \n",
       "1        Genesis-2  "
      ]
     },
     "execution_count": 3,
     "metadata": {},
     "output_type": "execute_result"
    }
   ],
   "source": [
    "import pandas.io.sql as pds\n",
    "data_df = pds.read_sql('SELECT * FROM master_kb_text WHERE idx IN (' + str(list([1,2]))[1:-1] + ')', con)\n",
    "data_df"
   ]
  },
  {
   "cell_type": "code",
   "execution_count": 7,
   "metadata": {},
   "outputs": [
    {
     "data": {
      "text/html": [
       "<div>\n",
       "<style scoped>\n",
       "    .dataframe tbody tr th:only-of-type {\n",
       "        vertical-align: middle;\n",
       "    }\n",
       "\n",
       "    .dataframe tbody tr th {\n",
       "        vertical-align: top;\n",
       "    }\n",
       "\n",
       "    .dataframe thead th {\n",
       "        text-align: right;\n",
       "    }\n",
       "</style>\n",
       "<table border=\"1\" class=\"dataframe\">\n",
       "  <thead>\n",
       "    <tr style=\"text-align: right;\">\n",
       "      <th></th>\n",
       "      <th>idx</th>\n",
       "      <th>sentence</th>\n",
       "      <th>paragraph</th>\n",
       "      <th>authors</th>\n",
       "      <th>document_nm</th>\n",
       "      <th>url</th>\n",
       "      <th>verse_references</th>\n",
       "    </tr>\n",
       "  </thead>\n",
       "  <tbody>\n",
       "    <tr>\n",
       "      <th>0</th>\n",
       "      <td>1</td>\n",
       "      <td>No one for a moment dreams of referring a seri...</td>\n",
       "      <td>IF anyone is in search of accurate information...</td>\n",
       "      <td>Expositors Commentary</td>\n",
       "      <td></td>\n",
       "      <td>https://biblehub.com/commentaries/expositors/g...</td>\n",
       "      <td>Genesis-2</td>\n",
       "    </tr>\n",
       "    <tr>\n",
       "      <th>1</th>\n",
       "      <td>2</td>\n",
       "      <td>It is not the object of the writers of Scriptu...</td>\n",
       "      <td>IF anyone is in search of accurate information...</td>\n",
       "      <td>Expositors Commentary</td>\n",
       "      <td></td>\n",
       "      <td>https://biblehub.com/commentaries/expositors/g...</td>\n",
       "      <td>Genesis-2</td>\n",
       "    </tr>\n",
       "  </tbody>\n",
       "</table>\n",
       "</div>"
      ],
      "text/plain": [
       "   idx                                           sentence  \\\n",
       "0    1  No one for a moment dreams of referring a seri...   \n",
       "1    2  It is not the object of the writers of Scriptu...   \n",
       "\n",
       "                                           paragraph                authors  \\\n",
       "0  IF anyone is in search of accurate information...  Expositors Commentary   \n",
       "1  IF anyone is in search of accurate information...  Expositors Commentary   \n",
       "\n",
       "  document_nm                                                url  \\\n",
       "0              https://biblehub.com/commentaries/expositors/g...   \n",
       "1              https://biblehub.com/commentaries/expositors/g...   \n",
       "\n",
       "  verse_references  \n",
       "0        Genesis-2  \n",
       "1        Genesis-2  "
      ]
     },
     "execution_count": 7,
     "metadata": {},
     "output_type": "execute_result"
    }
   ],
   "source": [
    "data_df = data_df[data_df.sentence.apply(len) > 4]"
   ]
  },
  {
   "cell_type": "code",
   "execution_count": 8,
   "metadata": {},
   "outputs": [],
   "source": [
    "con.close()"
   ]
  },
  {
   "cell_type": "code",
   "execution_count": null,
   "metadata": {},
   "outputs": [],
   "source": []
  }
 ],
 "metadata": {
  "kernelspec": {
   "display_name": "Python 3",
   "language": "python",
   "name": "python3"
  },
  "language_info": {
   "codemirror_mode": {
    "name": "ipython",
    "version": 3
   },
   "file_extension": ".py",
   "mimetype": "text/x-python",
   "name": "python",
   "nbconvert_exporter": "python",
   "pygments_lexer": "ipython3",
   "version": "3.6.9"
  }
 },
 "nbformat": 4,
 "nbformat_minor": 2
}
