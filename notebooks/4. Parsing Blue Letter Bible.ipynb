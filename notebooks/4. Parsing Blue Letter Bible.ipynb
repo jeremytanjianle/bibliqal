{
 "cells": [
  {
   "cell_type": "code",
   "execution_count": 11,
   "metadata": {},
   "outputs": [],
   "source": [
    "from collections import Counter \n",
    "import requests\n",
    "from bs4 import BeautifulSoup as soup\n",
    "import json\n",
    "import json_lines\n",
    "\n",
    "commentator_link = 'https://www.blueletterbible.org/commentaries/edersheim_alfred/'\n"
   ]
  },
  {
   "cell_type": "code",
   "execution_count": 12,
   "metadata": {},
   "outputs": [],
   "source": [
    "r = requests.get(commentator_link)\n",
    "\n",
    "\n",
    "# https://stackoverflow.com/questions/44203397/python-requests-get-returns-improperly-decoded-text-instead-of-utf-8\n",
    "r.encoding = r.apparent_encoding\n",
    "\n",
    "link = soup(r.text)"
   ]
  },
  {
   "cell_type": "markdown",
   "metadata": {},
   "source": [
    "### 1. Getting the links to the works of the commentator"
   ]
  },
  {
   "cell_type": "code",
   "execution_count": 23,
   "metadata": {},
   "outputs": [
    {
     "data": {
      "text/plain": [
       "['asd', 'dsa']"
      ]
     },
     "execution_count": 23,
     "metadata": {},
     "output_type": "execute_result"
    }
   ],
   "source": [
    "['asd','dsa'][None:]"
   ]
  },
  {
   "cell_type": "code",
   "execution_count": 27,
   "metadata": {},
   "outputs": [
    {
     "data": {
      "text/plain": [
       "[{'url': 'https://www.blueletterbible.org/Comm/edersheim_alfred/sketches/sketches00.cfm',\n",
       "  'verse_reference': '',\n",
       "  'document_nm': 'The New Schaff-Herzog Encyclopedia of Religious Knowledge - Preface',\n",
       "  'authors': 'Edersheim Alfred'},\n",
       " {'url': 'https://www.blueletterbible.org/Comm/edersheim_alfred/sketches/sketches01.cfm',\n",
       "  'verse_reference': '',\n",
       "  'document_nm': 'The New Schaff-Herzog Encyclopedia of Religious Knowledge - Chapter 1. Palestine Eighteen Centuries Ago',\n",
       "  'authors': 'Edersheim Alfred'},\n",
       " {'url': 'https://www.blueletterbible.org/Comm/edersheim_alfred/sketches/sketches02.cfm',\n",
       "  'verse_reference': '',\n",
       "  'document_nm': 'The New Schaff-Herzog Encyclopedia of Religious Knowledge - Chapter 2. Jews and Gentiles in “The Land”',\n",
       "  'authors': 'Edersheim Alfred'},\n",
       " {'url': 'https://www.blueletterbible.org/Comm/edersheim_alfred/sketches/sketches03.cfm',\n",
       "  'verse_reference': '',\n",
       "  'document_nm': 'The New Schaff-Herzog Encyclopedia of Religious Knowledge - Chapter 3. In Galilee at the Time of Our Lord',\n",
       "  'authors': 'Edersheim Alfred'},\n",
       " {'url': 'https://www.blueletterbible.org/Comm/edersheim_alfred/sketches/sketches04.cfm',\n",
       "  'verse_reference': '',\n",
       "  'document_nm': 'The New Schaff-Herzog Encyclopedia of Religious Knowledge - Chapter 4. Travelling in Palestine',\n",
       "  'authors': 'Edersheim Alfred'},\n",
       " {'url': 'https://www.blueletterbible.org/Comm/edersheim_alfred/sketches/sketches05.cfm',\n",
       "  'verse_reference': '',\n",
       "  'document_nm': 'The New Schaff-Herzog Encyclopedia of Religious Knowledge - Chapter 5. In Judaea',\n",
       "  'authors': 'Edersheim Alfred'},\n",
       " {'url': 'https://www.blueletterbible.org/Comm/edersheim_alfred/sketches/sketches06.cfm',\n",
       "  'verse_reference': '',\n",
       "  'document_nm': 'The New Schaff-Herzog Encyclopedia of Religious Knowledge - Chapter 6. Jewish Homes',\n",
       "  'authors': 'Edersheim Alfred'},\n",
       " {'url': 'https://www.blueletterbible.org/Comm/edersheim_alfred/sketches/sketches07.cfm',\n",
       "  'verse_reference': '',\n",
       "  'document_nm': 'The New Schaff-Herzog Encyclopedia of Religious Knowledge - Chapter 7. The Upbringing of Jewish Children',\n",
       "  'authors': 'Edersheim Alfred'},\n",
       " {'url': 'https://www.blueletterbible.org/Comm/edersheim_alfred/sketches/sketches08.cfm',\n",
       "  'verse_reference': '',\n",
       "  'document_nm': 'The New Schaff-Herzog Encyclopedia of Religious Knowledge - Chapter 8. Subjects of Study',\n",
       "  'authors': 'Edersheim Alfred'},\n",
       " {'url': 'https://www.blueletterbible.org/Comm/edersheim_alfred/sketches/sketches09.cfm',\n",
       "  'verse_reference': '',\n",
       "  'document_nm': 'The New Schaff-Herzog Encyclopedia of Religious Knowledge - Chapter 9. Mothers, Daughters, and Wives in Israel',\n",
       "  'authors': 'Edersheim Alfred'},\n",
       " {'url': 'https://www.blueletterbible.org/Comm/edersheim_alfred/sketches/sketches10.cfm',\n",
       "  'verse_reference': '',\n",
       "  'document_nm': 'The New Schaff-Herzog Encyclopedia of Religious Knowledge - Chapter 10. In Death and After Death',\n",
       "  'authors': 'Edersheim Alfred'},\n",
       " {'url': 'https://www.blueletterbible.org/Comm/edersheim_alfred/sketches/sketches11.cfm',\n",
       "  'verse_reference': '',\n",
       "  'document_nm': 'The New Schaff-Herzog Encyclopedia of Religious Knowledge - Chapter 11. Jewish Views on Trade, Tradesmen, and Trades’ Guilds',\n",
       "  'authors': 'Edersheim Alfred'},\n",
       " {'url': 'https://www.blueletterbible.org/Comm/edersheim_alfred/sketches/sketches12.cfm',\n",
       "  'verse_reference': '',\n",
       "  'document_nm': 'The New Schaff-Herzog Encyclopedia of Religious Knowledge - Chapter 12. Commerce',\n",
       "  'authors': 'Edersheim Alfred'},\n",
       " {'url': 'https://www.blueletterbible.org/Comm/edersheim_alfred/sketches/sketches13.cfm',\n",
       "  'verse_reference': '',\n",
       "  'document_nm': 'The New Schaff-Herzog Encyclopedia of Religious Knowledge - Chapter 13. Among the People, and with the Pharisees',\n",
       "  'authors': 'Edersheim Alfred'},\n",
       " {'url': 'https://www.blueletterbible.org/Comm/edersheim_alfred/sketches/sketches14.cfm',\n",
       "  'verse_reference': '',\n",
       "  'document_nm': 'The New Schaff-Herzog Encyclopedia of Religious Knowledge - Chapter 14. The “Fraternity” of Pharisees',\n",
       "  'authors': 'Edersheim Alfred'},\n",
       " {'url': 'https://www.blueletterbible.org/Comm/edersheim_alfred/sketches/sketches15.cfm',\n",
       "  'verse_reference': '',\n",
       "  'document_nm': 'The New Schaff-Herzog Encyclopedia of Religious Knowledge - Chapter 15. Relation of the Pharisees',\n",
       "  'authors': 'Edersheim Alfred'},\n",
       " {'url': 'https://www.blueletterbible.org/Comm/edersheim_alfred/sketches/sketches16.cfm',\n",
       "  'verse_reference': '',\n",
       "  'document_nm': 'The New Schaff-Herzog Encyclopedia of Religious Knowledge - Chapter 16. Synagogues ',\n",
       "  'authors': 'Edersheim Alfred'},\n",
       " {'url': 'https://www.blueletterbible.org/Comm/edersheim_alfred/sketches/sketches17.cfm',\n",
       "  'verse_reference': '',\n",
       "  'document_nm': 'The New Schaff-Herzog Encyclopedia of Religious Knowledge - Chapter 17. The Worship of the Synagogue',\n",
       "  'authors': 'Edersheim Alfred'},\n",
       " {'url': 'https://www.blueletterbible.org/Comm/edersheim_alfred/sketches/sketches18.cfm',\n",
       "  'verse_reference': '',\n",
       "  'document_nm': 'The New Schaff-Herzog Encyclopedia of Religious Knowledge - Chapter 18. Brief Outline of Ancient Jewish Theological Literature',\n",
       "  'authors': 'Edersheim Alfred'},\n",
       " {'url': 'https://www.blueletterbible.org/Comm/edersheim_alfred/sketches/sketches19.cfm',\n",
       "  'verse_reference': '',\n",
       "  'document_nm': 'The New Schaff-Herzog Encyclopedia of Religious Knowledge - Appendix 1. Massecheth Middoth (Measuring the Temple) ',\n",
       "  'authors': 'Edersheim Alfred'},\n",
       " {'url': 'https://www.blueletterbible.org/Comm/edersheim_alfred/sketches/sketches20.cfm',\n",
       "  'verse_reference': '',\n",
       "  'document_nm': 'The New Schaff-Herzog Encyclopedia of Religious Knowledge - Appendix 2. Extracts from the Babylon Talmud',\n",
       "  'authors': 'Edersheim Alfred'}]"
      ]
     },
     "execution_count": 27,
     "metadata": {},
     "output_type": "execute_result"
    }
   ],
   "source": [
    "def commentatorpage_2_links(commentator_link, document_nm_root = '', drop_first=None, drop_last=None):\n",
    "    \"\"\"\n",
    "    Get the links of the commentators work with their respective \n",
    "    \"\"\"\n",
    "    root_link = commentator_link.split('.org')[0] + '.org'\n",
    "    r = requests.get(commentator_link)\n",
    "    r.encoding = r.apparent_encoding\n",
    "    link = soup(r.text)\n",
    "    list_of_elements = link.findAll('li',{'class':'articleLI'})\n",
    "    \n",
    "    authors = ' '.join([name.capitalize() for name in commentator_link.split('/')[-2].split('_')])\n",
    "    \n",
    "    #  get link and document name\n",
    "    chapter_links = [{\n",
    "                      'url': root_link+element.a['href'], \n",
    "                      'verse_reference':'',\n",
    "                      'document_nm':document_nm_root+' - '+element.a.text,\n",
    "                      'authors':authors,\n",
    "                     }\n",
    "                     for element in list_of_elements]\n",
    "    chapter_links = chapter_links[drop_first:]\n",
    "    chapter_links = chapter_links[:-drop_last]\n",
    "    \n",
    "    return chapter_links\n",
    "\n",
    "commentatorpage_2_links('https://www.blueletterbible.org/commentaries/edersheim_alfred/',\n",
    "                        document_nm_root = 'The New Schaff-Herzog Encyclopedia of Religious Knowledge',\n",
    "                        drop_last=3\n",
    "                       )"
   ]
  },
  {
   "cell_type": "markdown",
   "metadata": {},
   "source": [
    "### 2. Getting the paragraph of the chapter link"
   ]
  },
  {
   "cell_type": "code",
   "execution_count": 14,
   "metadata": {},
   "outputs": [],
   "source": [
    "chapter_link = 'https://www.blueletterbible.org/Comm/edersheim_alfred/sketches/sketches00.cfm'\n",
    "\n",
    "def remove_footnote_link(string):\n",
    "    try:\n",
    "        splitted=string.split('\\xa0')\n",
    "        a=splitted[0]\n",
    "        b='x'\n",
    "        if len(splitted)>1:\n",
    "            b=splitted[1]\n",
    "        return ''.join([a,b[1:]])\n",
    "    except:\n",
    "        print('remove_footnote_link - failed to remove ascii'.upper())\n",
    "        print(string)\n",
    "        print(splitted)\n",
    "        print(a)\n",
    "        print(b)\n",
    "        raise\n",
    "        return string\n",
    "\n",
    "def chapter_to_list_of_paragraphs( chapter_link ):\n",
    "    \"\"\"\n",
    "    \n",
    "    \n",
    "    args:\n",
    "    ----\n",
    "        chapter_link: (str) this contains the link to the commentators work\n",
    "    return:\n",
    "    ------\n",
    "        list_of_paragraphs: (list) list of paragraph string\n",
    "    \"\"\"\n",
    "    r = requests.get(chapter_link)\n",
    "    # https://stackoverflow.com/questions/44203397/python-requests-get-returns-improperly-decoded-text-instead-of-utf-8\n",
    "    r.encoding = r.apparent_encoding\n",
    "    link = soup(r.text)\n",
    "    \n",
    "    # remove footnotes\n",
    "    link = soup(str(link.find(\"div\", {\"id\":\"commData\"})).split(\"<hr\")[0])\n",
    "    \n",
    "    paragraph_elements = link.find(\"div\", {\"id\":\"commData\"}).findAll(\"p\")\n",
    "    list_of_paragraphs = [paragraph_element.text.replace('\\n','').strip() \n",
    "                          for paragraph_element in paragraph_elements\n",
    "                          if len(paragraph_element.text.replace('\\n','').strip().split(' ') )> 7\n",
    "                         ]\n",
    "    \n",
    "    # remove footnote links \n",
    "    list_of_paragraphs = [remove_footnote_link(paragraph)\n",
    "                          for paragraph in list_of_paragraphs\n",
    "                         ]\n",
    "    \n",
    "    return list_of_paragraphs#, paragraph_elements, link\n",
    "\n",
    "list_of_paragraphs = chapter_to_list_of_paragraphs( \"https://www.blueletterbible.org/Comm/ice_thomas/Mat24-25/Mat24-25_Part01.cfm\" )"
   ]
  },
  {
   "cell_type": "markdown",
   "metadata": {},
   "source": [
    "However, there are paragraphs that we may not need.\n",
    "1. Quotes - we may want to attach them to the previous paragraph.\n",
    "2. Indented paragraphs - similar to quotes\n",
    "<font color=green>\n",
    "3. Footnotes - We may want to remove them altogether. The superscript link to the footnotes will write \"\\xa02\"  \n",
    "    \n",
    "\n",
    "A link with quotes and footnotes is:  \n",
    "https://www.blueletterbible.org/Comm/ice_thomas/Mat24-25/Mat24-25_Part01.cfm"
   ]
  },
  {
   "cell_type": "code",
   "execution_count": 15,
   "metadata": {},
   "outputs": [
    {
     "data": {
      "text/plain": [
       "'The Olivet Discourse, delivered shortly before Jesus’ crucifixion, is the most important single passage of prophecy in all the Bible. It is significant because it came from Jesus Himself immediately after He was rejected by His own people and because it provides the master outline of end-time events.—Dr. Tim LaHaye'"
      ]
     },
     "execution_count": 15,
     "metadata": {},
     "output_type": "execute_result"
    }
   ],
   "source": [
    "test_str = 'The Olivet Discourse, delivered shortly before Jesus’ crucifixion, is the most important single passage of prophecy in all the Bible. It is significant because it came from Jesus Himself immediately after He was rejected by His own people and because it provides the master outline of end-time events.—Dr. Tim LaHaye\\xa01'\n",
    "test_str.split('\\xa0')[0]"
   ]
  },
  {
   "cell_type": "markdown",
   "metadata": {},
   "source": [
    "To scrape BLB, we need `commentator_link, document_nm_root`, `drop_first`, `drop_last` which are the links and the wider book name, slicing indices (to be manually keyed in) respectively. "
   ]
  },
  {
   "cell_type": "markdown",
   "metadata": {},
   "source": [
    "### The scraping logic"
   ]
  },
  {
   "cell_type": "code",
   "execution_count": 16,
   "metadata": {},
   "outputs": [
    {
     "data": {
      "text/plain": [
       "['The Olivet Discourse, delivered shortly before Jesus’ crucifixion, is the most important single passage of prophecy in all the Bible. It is significant because it came from Jesus Himself immediately after He was rejected by His own people and because it provides the master outline of end-time events.—Dr. Tim LaHaye',\n",
       " 'Bible prophecy. The Olivet Discourse is made up of our Lord’s teaching on Bible prophecy that is found in Matthew 24-25, Mark 13 and Luke 21. Since one’s interpretation of the Olivet Discourse greatly impacts whether they are a premillennialist or anti-millennialist, futurist or preterist, or pretribulationists or posttribulationist, I will be attempting an extensive interpretation of Matthew 24-25.',\n",
       " 'The setting for the Olivet Discourse, at least for Matthew’s account, is found in preceding events leading up to Matthew 24. Christ had presented Himself to the nation as their Messiah, but they rejected Him. No only did the people reject Him, but their rulers did as well. Thus, Jesus rebukes and exposes their hypocrisy and unbelief in Matthew 22 and Matthew 23. Jesus notes that this present generation of Jewish leaders is like those from previous generations who killed the prophets (Matthew 23:29-36). Christ then tells the Jewish leaders, “Truly I say to you, all these things shall come upon this generation” (Matthew 23:36). What things? It will be the curse of judgment, which will come upon the Jewish people through the Roman army in A.D. 70. “All hope for a turning of Israel to God in repentance has gone,” notes Dr. Stanley Toussaint. ”The King therefore has no alternative but to reject that nation for the time being with regard to its kingdom program. The clear announcement of this decision is seen in these verses of Matthew’s Gospel.”',\n",
       " 'In spite of the fact that the Jewish people deserved the approaching judgment, like a caring parent about to administer a just punishment, Christ cries out, “O Jerusalem, Jerusalem, who kills the prophets and stones those who are sent to her! How often I wanted to gather your children together, the way a hen gathers her chicks under her wings, and you were unwilling” (Matthew 23:37). Jesus wants to gather His people (as He will in Matthew 24:31), instead, He will scatter them via the A.D. 70 judgment (Luke 21:24).',\n",
       " 'Jesus then declares in Matthew 23:38, “Behold, your house is being left to you desolate!” To what does the house refer? In the context of this passage it must be a reference to the Jewish Temple. Matthew 24:1-2 brings up a discussion by Jesus with His disciples about the Temple. It is at that time that Jesus startles them by telling them “Do you not see all these things? Truly I say to you, not one stone here shall be left upon another, which will not be torn down” (Matthew 24:2). What Jesus says will be desolate, the Temple, in Matthew 23:38, is more precisely described in Matthew 24:2: both referring to the same thing—the Temple.',\n",
       " 'Next, Christ says, “For I say to you, from now on you shall not see Me until you say, ‘Blessed is He who comes in the name of the Lord!’” (Matthew 24:39). Not only does this verse hold out the certainty of soon judgment, but also the eventual promise of yet to come hope and blessing upon the Jewish nation. Alfred Edersheim, a son of the present remnant of Israel, said of this passage:',\n",
       " 'Looking around on those Temple-buildings—that House, it shall be left to them desolate! And He quitted its courts with these words, that they of Israel should not see Him again till, the night of their unbelief past, they would welcome His return with a better Hosanna than that which had greeted His Royal Entry three days before. And this was the ‘Farewell’ and the parting of Israel’s Messiah from Israel and its Temple. Yet a Farewell which promised a coming again; and a parting which implied a welcome in the future from a believing people to a gracious, pardoning King.',\n",
       " 'So this verse not only speaks of the judgment that surely came in A.D. 70, but looked to a future time of redemption for Israel because the passage contains the forward looking word “until.” Luke 21:24 records another use of “until” by our Lords when He says, “and they will fall by the edge of the sword, and will be led captive into all the nations; and Jerusalem will be trampled under foot by the Gentiles until the times of the Gentiles be fulfilled.” Hebrew Christian Bible teacher, Dr. Arnold Fruchtenbaum, says Israel must call for the Lord to rescue them as a condition for the second coming, based upon Matthew 23:39. Dr. Fruchtenbaum explains:',\n",
       " 'But then He declares that they will not see Him again until they say, Blessed is He that cometh in the name of the Lord. This is a messianic greeting. It will mean their acceptance of the Messiahship of Jesus. So Jesus will not come back to the earth until the Jews and the Jewish leaders ask Him to come back. For just as the Jewish leaders lead the nation to the rejection of the Messiahship of Jesus, they must some day lead the nation to the acceptance of the Messiahship of Jesus.',\n",
       " 'Dr. David Cooper echoes Dr. Fruchtenbaum’s understanding when he says, “Since Jesus came in the name of the Lord, and since He will not return until Israel says, ‘Blessed is he that cometh in the name of the Lord,’ it is clear that the people of Israel will see and recognize that Jesus was and is their true Messiah.” The last few verses of Matthew 23 means that judgment was coming in the near future, but, beyond judgment, deliverance and redemption awaits the Jewish nation. Judgment did come in A.D. 70 and Matthew 24 speaks of the still future redemption of Israel.',\n",
       " 'Matthew 24:1-3 provides us with the setting for which Christ delivers His prophetic sermon. We see that Jesus is making His way from the Temple (Matthew 24:1) to the Mount of Olives (Matthew 24:3), which would mean that He most likely would travel down the Kidron Valley and on up to Olivet. As He was going from the Temple “His disciples came up to point out the temple buildings to Him” (Matthew 24:1). This statement leads us to believe that they were talking to Jesus about how beautiful the Temple complex was that Herod was still in the process of remodeling and refurbishing. Such an emphasis is borne out in the parallel references in Mark 13:1-2 and Luke 21:5-6 as the disciples speak of the beauty of the Temple buildings. The Lord must have startled His disciples by His response to their gloating over the beauty of the Temple complex when He said, “Do you not see all these things? Truly I say to you, not one stone here shall be left upon another, which will not be torn down” (Matthew 24:2).',\n",
       " 'As Matthew 24:2 is completed, with Christ’s statement, there is a break in the narrative. The narrative picks back up in Matthew 24:3 when it says, “the disciples came to Him privately.” Mark 13:3 tells us that the disciples who came to Him privately were Peter, James, John and Andrew, and that they were sitting on the Mount of Olives looking at the Temple. This would be the same vista that many have seen today when a visitor goes to the viewing point in modern Jerusalem on the Mount of Olives that overlooks the Temple Mount with the Dome of the Rock perched upon it.',\n",
       " 'That the disciples came to Jesus privately fits the pattern that Jesus practices and Matthew records of teaching only His believing disciples once the nation rejected Him as their prophesied Messiah in Matthew 12. From Matthew 13 on, Jesus speaks publicly to the rejecting nation only in parables (Matthew 13:10-17). “Therefore I speak to them in parables; because while seeing they do not see, and while hearing they do not hear, nor do they understand” (Matthew 13:13). However, many times He would later explain a public parable privately to His disciples (for example, Matthew 13:10-23). In the Olivet Discourse, we see Christ following this pattern. This private explanation, which is the Olivet Discourse, means that Christ will provide His explanation of future history for the benefit of believers.',\n",
       " 'While sitting on the Mount of Olives these four disciples ask Jesus the following questions: “Tell us, when will these things be, and what will be the sign of Your coming, and of the end of the age” (Matthew 24:3)? Immediately debate rises over whether these are two questions or three. If one takes the first option, then there is no doubt that the second question contains two parts to it. I believe that there are two basic questions because of the grammar of the passage as explained by Dr. Craig Blomberg as follows:',\n",
       " '“The sign of your coming and of the end of the age” in Greek reads, more literally, the sign of your coming and end of the age. By not repeating the definite article (“the”) before “end of the age,” Matthew’s rendering of Jesus’ words is most likely linking the coming of Christ and the end of the age together as one event (Granville Sharp’s rule).',\n",
       " 'This means that the two phrases are closely related to one another in the mind of the disciples, who formulated the question. They believed that they were linked closely together.',\n",
       " 'Clearly the first question relates to the destruction of the Temple, which was fulfilled in the Roman invasion and destruction of A.D. 70. It is equally clear that the two aspects of the second question have yet to occur in history, even though some want to see in this passage Christ’s second coming (more on the errors of preterism as I progress through the passage).',\n",
       " 'It appears likely to me that the disciples believed that all three aspects of their two questions would occur around the same event—the coming of Messiah. Why would they have thought this way? Dr. Toussaint is correct to note that the disciples were influenced by the prophet Zechariah.',\n",
       " 'In their minds they had developed a chronology of events in the following sequence: (1) the departure of the King, (2) after a period of time the destruction of Jerusalem, and (3) immediately after Jerusalem’s devastation the presence of the Messiah. They had good scriptural ground for this since Zechariah 14:1-2 describes the razing of Jerusalem. The same passage goes on to describe the coming of the Lord to destroy the nations which warred against Jerusalem (Zechariah 14:3-8). Following this the millennial kingdom is established (Zechariah 14:9-11).',\n",
       " 'In other words, the disciples thought that all three events were related to a single event—the return of the Messiah as taught in Zechariah 14:4. As we shall see, they were right to think of Zechariah 12-14 and his teaching about Messiah’s coming. However, they were wrong to relate the impending judgment of Jerusalem and the Temple with the return of Messiah, as I hope to show in future installments in their series. Maranatha!']"
      ]
     },
     "execution_count": 16,
     "metadata": {},
     "output_type": "execute_result"
    }
   ],
   "source": [
    "\"\"\"\n",
    "Scrape selected authors, their pages\n",
    "\"\"\"\n",
    "from collections import Counter \n",
    "import requests\n",
    "from bs4 import BeautifulSoup as soup\n",
    "import json\n",
    "import json_lines\n",
    "\n",
    "def commentatorpage_2_links(commentator_link, document_nm_root = '', drop_first=None, drop_last=None):\n",
    "    \"\"\"\n",
    "    Get the links of the commentators work with their respective \n",
    "    \"\"\"\n",
    "    root_link = commentator_link.split('.org')[0] + '.org'\n",
    "    r = requests.get(commentator_link)\n",
    "    r.encoding = r.apparent_encoding\n",
    "    link = soup(r.text)\n",
    "    list_of_elements = link.findAll('li',{'class':'articleLI'})\n",
    "    \n",
    "    authors = ' '.join([name.capitalize() for name in commentator_link.split('/')[-2].split('_')])\n",
    "    \n",
    "    #  get link and document name\n",
    "    chapter_links = [{\n",
    "                      'url': root_link+element.a['href'], \n",
    "                      'verse_reference':'',\n",
    "                      'document_nm':document_nm_root+' - '+element.a.text,\n",
    "                      'authors':authors,\n",
    "                     }\n",
    "                     for element in list_of_elements]\n",
    "    chapter_links = chapter_links[drop_first:]\n",
    "    chapter_links = chapter_links[:-drop_last]\n",
    "    \n",
    "    return chapter_links\n",
    "\n",
    "\n",
    "def remove_footnote_link(string):\n",
    "    try:\n",
    "        splitted=string.split('\\xa0')\n",
    "        a=splitted[0]\n",
    "        b='x'\n",
    "        if len(splitted)>1:\n",
    "            b=splitted[1]\n",
    "        return ''.join([a,b[1:]])\n",
    "    except:\n",
    "        print('remove_footnote_link - failed to remove ascii'.upper())\n",
    "        print(string)\n",
    "        print(splitted)\n",
    "        print(a)\n",
    "        print(b)\n",
    "        raise\n",
    "        return string\n",
    "\n",
    "def chapter_to_list_of_paragraphs( chapter_link ):\n",
    "    \"\"\"\n",
    "    \n",
    "    \n",
    "    args:\n",
    "    ----\n",
    "        chapter_link: (str) this contains the link to the commentators work\n",
    "    return:\n",
    "    ------\n",
    "        list_of_paragraphs: (list) list of paragraph string\n",
    "    \"\"\"\n",
    "    r = requests.get(chapter_link)\n",
    "    # https://stackoverflow.com/questions/44203397/python-requests-get-returns-improperly-decoded-text-instead-of-utf-8\n",
    "    r.encoding = r.apparent_encoding\n",
    "    link = soup(r.text)\n",
    "    \n",
    "    # remove footnotes\n",
    "    link = soup(str(link.find(\"div\", {\"id\":\"commData\"})).split(\"<hr\")[0])\n",
    "    \n",
    "    paragraph_elements = link.find(\"div\", {\"id\":\"commData\"}).findAll(\"p\")\n",
    "    list_of_paragraphs = [paragraph_element.text.replace('\\n','').strip() \n",
    "                          for paragraph_element in paragraph_elements\n",
    "                          if len(paragraph_element.text.replace('\\n','').strip().split(' ') )> 7\n",
    "                         ]\n",
    "    \n",
    "    # remove footnote links \n",
    "    list_of_paragraphs = [remove_footnote_link(paragraph)\n",
    "                          for paragraph in list_of_paragraphs\n",
    "                         ]\n",
    "    \n",
    "    return list_of_paragraphs#, paragraph_elements, link\n",
    "\n",
    "\n",
    "if __name__==\"__main__\":\n",
    "    \n",
    "    blb_catalogue = [\n",
    "        ()\n",
    "        \n",
    "        \n",
    "    ]\n",
    "    \n",
    "    for commentator_link, document_nm_root, drop_first, drop_last in blb_catalogue:\n",
    "\n",
    "        # 1. get chapter links, \n",
    "        #    which is a list of dictionaries,\n",
    "        #    detailing url, verse_ref, document_nm, authors\n",
    "        chapter_links = commentatorpage_2_links(commentator_link, document_nm_root = '', drop_first=None, drop_last=None)\n",
    "\n",
    "\n",
    "        for commentator_chapter_link in chapter_links:\n",
    "\n",
    "            # 2. for each commentator_chapter_link, \n",
    "            #    get a list of paragraphs from chapter\n",
    "            list_of_paragraphs = chapter_to_list_of_paragraphs( commentator_chapter_link )\n",
    "\n",
    "            for paragraph in list_of_paragraphs:\n",
    "\n",
    "                # 3. save in jsonl format and save to kb\n",
    "\n",
    "                json_row_to_save = commentator_chapter_link.copy()\n",
    "                json_row_to_save['paragraph'] = paragraph\n",
    "\n",
    "                with open(\"data/blueletterbible.jsonl\", 'a') as outfile:\n",
    "                    json.dump(json_row_to_save, outfile)\n",
    "                    outfile.write('\\n')\n",
    "            "
   ]
  },
  {
   "cell_type": "markdown",
   "metadata": {},
   "source": [
    "### Troubleshoot"
   ]
  },
  {
   "cell_type": "code",
   "execution_count": 30,
   "metadata": {},
   "outputs": [
    {
     "ename": "NameError",
     "evalue": "name 'chapter_links' is not defined",
     "output_type": "error",
     "traceback": [
      "\u001b[0;31m---------------------------------------------------------------------------\u001b[0m",
      "\u001b[0;31mNameError\u001b[0m                                 Traceback (most recent call last)",
      "\u001b[0;32m<ipython-input-30-320606877820>\u001b[0m in \u001b[0;36m<module>\u001b[0;34m\u001b[0m\n\u001b[0;32m----> 1\u001b[0;31m \u001b[0mchapter_links\u001b[0m\u001b[0;34m\u001b[0m\u001b[0;34m\u001b[0m\u001b[0m\n\u001b[0m",
      "\u001b[0;31mNameError\u001b[0m: name 'chapter_links' is not defined"
     ]
    }
   ],
   "source": [
    "chapter_links"
   ]
  },
  {
   "cell_type": "code",
   "execution_count": null,
   "metadata": {},
   "outputs": [],
   "source": []
  }
 ],
 "metadata": {
  "kernelspec": {
   "display_name": "Python 3",
   "language": "python",
   "name": "python3"
  },
  "language_info": {
   "codemirror_mode": {
    "name": "ipython",
    "version": 3
   },
   "file_extension": ".py",
   "mimetype": "text/x-python",
   "name": "python",
   "nbconvert_exporter": "python",
   "pygments_lexer": "ipython3",
   "version": "3.6.9"
  }
 },
 "nbformat": 4,
 "nbformat_minor": 2
}
