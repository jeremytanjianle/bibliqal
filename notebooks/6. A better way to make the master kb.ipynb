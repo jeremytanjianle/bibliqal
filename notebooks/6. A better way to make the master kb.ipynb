{
 "cells": [
  {
   "cell_type": "code",
   "execution_count": 29,
   "metadata": {},
   "outputs": [
    {
     "data": {
      "text/plain": [
       "'249794 before'"
      ]
     },
     "metadata": {},
     "output_type": "display_data"
    },
    {
     "data": {
      "text/plain": [
       "'147003 after'"
      ]
     },
     "metadata": {},
     "output_type": "display_data"
    }
   ],
   "source": [
    "import pandas as pd\n",
    "import json\n",
    "\n",
    "master_kb_text_dir = '../data/master_kb_sentence_text.db'\n",
    "master_kb_text_clean_dir = '../data/master_kb_sentence_text_clean.db'\n",
    "\n",
    "import sqlite3 as sq\n",
    "import numpy as np\n",
    "import pandas.io.sql as pds\n",
    "\n",
    "# make sql connection\n",
    "con = sq.connect(master_kb_text_dir)\n",
    "\n",
    "# pull table and set index\n",
    "data_df = pds.read_sql('SELECT * FROM master_kb_text', con)\n",
    "data_df = data_df.set_index('idx')\n",
    "\n",
    "# dropping duplicates\n",
    "display(f\"{len(data_df)} before\")\n",
    "data_df = data_df.drop_duplicates('sentence')\n",
    "display(f\"{len(data_df)} after\")\n",
    "\n",
    "# set index\n",
    "data_df = data_df.set_index(np.arange(len(data_df)))\n",
    "con.close()\n",
    "\n",
    "# save the clean text kb into a new sql base\n",
    "con = sq.connect(master_kb_text_clean_dir)\n",
    "data_df.to_sql('master_kb_text', con=con, if_exists='replace')\n",
    "con.close()"
   ]
  },
  {
   "cell_type": "code",
   "execution_count": null,
   "metadata": {},
   "outputs": [],
   "source": []
  }
 ],
 "metadata": {
  "kernelspec": {
   "display_name": "Python 3",
   "language": "python",
   "name": "python3"
  },
  "language_info": {
   "codemirror_mode": {
    "name": "ipython",
    "version": 3
   },
   "file_extension": ".py",
   "mimetype": "text/x-python",
   "name": "python",
   "nbconvert_exporter": "python",
   "pygments_lexer": "ipython3",
   "version": "3.6.9"
  }
 },
 "nbformat": 4,
 "nbformat_minor": 2
}
