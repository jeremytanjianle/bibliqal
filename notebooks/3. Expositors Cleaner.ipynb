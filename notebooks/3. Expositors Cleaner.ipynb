{
 "cells": [
  {
   "cell_type": "markdown",
   "metadata": {},
   "source": [
    "### Cleaning the Expositors Commentary\n",
    "There are two things to do:\n",
    "1. Remove repeated paragraphs\n",
    "2. Clean the text. Namely font changes"
   ]
  },
  {
   "cell_type": "markdown",
   "metadata": {},
   "source": [
    "Read the kb"
   ]
  },
  {
   "cell_type": "code",
   "execution_count": 4,
   "metadata": {},
   "outputs": [],
   "source": [
    "import json\n",
    "with open('../data/expositors_commentary.jsonl', 'r') as handle:\n",
    "    kb = handle.read()"
   ]
  },
  {
   "cell_type": "markdown",
   "metadata": {},
   "source": [
    "Loop through, removing the repeats and cleaning the text, then appending it to another kb"
   ]
  },
  {
   "cell_type": "code",
   "execution_count": null,
   "metadata": {},
   "outputs": [],
   "source": [
    "kb = kb.split('\\n')\n",
    "list_of_unique_str = []\n",
    "for kb_row in kb:\n",
    "    kb_row = json.loads(kb_row)\n",
    "    \n",
    "    # remove repeats\n",
    "    if kb_row['paragraph'] in list_of_unique_str:\n",
    "        continue\n",
    "    \n",
    "    # clean \n",
    "    clean_paragraph = kb_row['paragraph']\n",
    "    clean_paragraph = remove_text_html_elements(clean_paragraph)\n",
    "    kb_row['paragraph'] = clean_paragraph\n",
    "    \n",
    "    # save the passage\n",
    "    with open('data/expositors_commentary_clean.jsonl', 'a') as outfile:\n",
    "        json.dump(kb_row, outfile)\n",
    "        outfile.write('\\n')"
   ]
  },
  {
   "cell_type": "markdown",
   "metadata": {},
   "source": [
    "### Troubleshooting"
   ]
  },
  {
   "cell_type": "code",
   "execution_count": 51,
   "metadata": {},
   "outputs": [
    {
     "data": {
      "text/plain": [
       "{'url': 'https://biblehub.com/commentaries/expositors/genesis/10.htm',\n",
       " 'paragraph': 'Before exposing another, think first whether your own conduct could bear a similar treatment, whether you have never done the thing you desire to conceal, said the thing you would blush to hear repeated, or thought the thought you could not bear another to read. And if you be a Christian, does it not become you to remember what you yourself have learnt of the slipperiness of this world’s ways, of your liability to fall, of your sudden exposure to sin from some physical disorder, or some slight mistake which greatly extenuates your sin, but which you could not plead before another? And do you know nothing of the difficulty of conquering one sin that is rooted in your constitution, and the strife that goes on in a man’s own soul and in secret though he show little immediate fruit of it in his life before men? Surely it becomes us to give a man credit for much good resolution and much sore self-denial and endeavour, even when he fails and sins still, because such we know to be our own case, and if we disbelieve in others until they can walk with perfect rectitude, if we condemn them for one or two flaws and blemishes, we shall be tempted to show the same want of charity towards ourselves, and fall at length into that miserable and hopeless condition that believes in no regenerating spirit nor in any holiness attainable by us.',\n",
       " 'verse_references': 'Genesis 5:1-32, Genesis 6:1-22, Genesis 7:1-24, Genesis 8:1-22, Genesis 9:1-29',\n",
       " 'authors': 'Expositors Commentary'}"
      ]
     },
     "execution_count": 51,
     "metadata": {},
     "output_type": "execute_result"
    }
   ],
   "source": [
    "kb_row"
   ]
  },
  {
   "cell_type": "code",
   "execution_count": 12,
   "metadata": {},
   "outputs": [],
   "source": [
    "kb_row = json.loads(kb[0])"
   ]
  },
  {
   "cell_type": "code",
   "execution_count": 50,
   "metadata": {},
   "outputs": [
    {
     "name": "stdout",
     "output_type": "stream",
     "text": [
      "asd (asd) <asd> asd\n"
     ]
    },
    {
     "data": {
      "text/plain": [
       "'asd (asd) asd'"
      ]
     },
     "execution_count": 50,
     "metadata": {},
     "output_type": "execute_result"
    }
   ],
   "source": [
    "import re\n",
    "mystring = \"asd (asd) <asd> asd\"\n",
    "\n",
    "def get_verse_ref_from_url(kb_row):\n",
    "    ref = '-'.join(kb_row['url'].split('.')[-2].split('/')[-2:])\n",
    "    ref = ref[0].upper() + ref[1:]\n",
    "    return ref\n",
    "\n",
    "def remove_text_html_elements(html_paragraph):\n",
    "    \"\"\"\n",
    "    HTML paragraphs has <> elements, \n",
    "    for font changes or hyperlinks\n",
    "    \n",
    "    This function removes the elements\n",
    "    \n",
    "    args:\n",
    "    ----\n",
    "        html_paragraph: (str) contains the html elements\n",
    "    return:\n",
    "    -------\n",
    "        result: (str) cleaned paragraph\n",
    "    \"\"\"\n",
    "    result = re.sub(\"[<].*?[>]\", \"\", html_paragraph)\n",
    "    result = ' '.join([token for token in result.split(' ') if len(token)>0])\n",
    "    return result\n",
    "\n",
    "print(mystring)\n",
    "remove_text_html_elements(mystring)"
   ]
  },
  {
   "cell_type": "code",
   "execution_count": 14,
   "metadata": {},
   "outputs": [
    {
     "data": {
      "text/plain": [
       "'Before exposing another, think first whether your own conduct could bear a similar treatment, whether you have never done the thing you desire to conceal, said the thing you would blush to hear repeated, or thought the thought you could not bear another to read. And if you be a Christian, does it not become you to remember what you yourself have learnt of the slipperiness of this world’s ways, of your liability to fall, of your sudden exposure to sin from some physical disorder, or some slight mistake which greatly extenuates your sin, but which you could not plead before another? And do you know nothing of the difficulty of conquering one sin that is rooted in your constitution, and the strife that goes on in a man’s own soul and in secret though he show little immediate fruit of it in his life before men? Surely it becomes us to give a man credit for much good resolution and much sore self-denial and endeavour, even when he fails and sins still, because such we know to be our own case, and if we disbelieve in others until they can walk with perfect rectitude, if we condemn them for one or two flaws and blemishes, we shall be tempted to show the same want of charity towards ourselves, and fall at length into that miserable and hopeless condition that believes in no regenerating spirit nor in any holiness attainable by us.'"
      ]
     },
     "execution_count": 14,
     "metadata": {},
     "output_type": "execute_result"
    }
   ],
   "source": [
    "kb_row['paragraph']"
   ]
  },
  {
   "cell_type": "code",
   "execution_count": 3,
   "metadata": {},
   "outputs": [
    {
     "data": {
      "text/plain": [
       "{'url': 'https://biblehub.com/commentaries/expositors/genesis/10.htm',\n",
       " 'paragraph': 'Before exposing another, think first whether your own conduct could bear a similar treatment, whether you have never done the thing you desire to conceal, said the thing you would blush to hear repeated, or thought the thought you could not bear another to read. And if you be a Christian, does it not become you to remember what you yourself have learnt of the slipperiness of this world’s ways, of your liability to fall, of your sudden exposure to sin from some physical disorder, or some slight mistake which greatly extenuates your sin, but which you could not plead before another? And do you know nothing of the difficulty of conquering one sin that is rooted in your constitution, and the strife that goes on in a man’s own soul and in secret though he show little immediate fruit of it in his life before men? Surely it becomes us to give a man credit for much good resolution and much sore self-denial and endeavour, even when he fails and sins still, because such we know to be our own case, and if we disbelieve in others until they can walk with perfect rectitude, if we condemn them for one or two flaws and blemishes, we shall be tempted to show the same want of charity towards ourselves, and fall at length into that miserable and hopeless condition that believes in no regenerating spirit nor in any holiness attainable by us.',\n",
       " 'verse_references': 'Genesis 5:1-32, Genesis 6:1-22, Genesis 7:1-24, Genesis 8:1-22, Genesis 9:1-29',\n",
       " 'authors': 'Expositors Commentary'}"
      ]
     },
     "execution_count": 3,
     "metadata": {},
     "output_type": "execute_result"
    }
   ],
   "source": [
    "json.loads(kb.split('\\n')[0])#['paragraph']"
   ]
  }
 ],
 "metadata": {
  "kernelspec": {
   "display_name": "Python 3",
   "language": "python",
   "name": "python3"
  },
  "language_info": {
   "codemirror_mode": {
    "name": "ipython",
    "version": 3
   },
   "file_extension": ".py",
   "mimetype": "text/x-python",
   "name": "python",
   "nbconvert_exporter": "python",
   "pygments_lexer": "ipython3",
   "version": "3.6.9"
  }
 },
 "nbformat": 4,
 "nbformat_minor": 2
}
